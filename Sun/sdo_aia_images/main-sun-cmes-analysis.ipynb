{
 "cells": [
  {
   "cell_type": "markdown",
   "source": [
    "# SDO/AIA"
   ],
   "metadata": {}
  },
  {
   "cell_type": "markdown",
   "source": [
    "# Introdução \n",
    "Script criado para análise de curvas de luz do Sol com imagens geradas no site https://sdo.gsfc.nasa.gov/data/aiahmi/"
   ],
   "metadata": {}
  },
  {
   "cell_type": "markdown",
   "source": [
    "### Passo a passo \n",
    "* 1 - Baixar as imagens zipadas do Sol no comprimento de onda desejado: https://sdo.gsfc.nasa.gov/data/aiahmi/\n",
    "* 2 - Adicionar no scrip, o nome da pasta e caminho onde se localiza na sua máquina \n",
    "* 3 - Comparar curvas de luz desejadas. No caso do exemplo, estamos comparando curvas de luz de um dia com CME sem Flare e um dia sem CME e sem Flare"
   ],
   "metadata": {}
  },
  {
   "cell_type": "code",
   "execution_count": 22,
   "source": [
    "from PIL import Image\n",
    "import numpy as np\n",
    "import os\n",
    "import matplotlib.pyplot as plt\n",
    "import datetime\n",
    "import glob"
   ],
   "outputs": [],
   "metadata": {}
  },
  {
   "cell_type": "code",
   "execution_count": 38,
   "source": [
    "def sum_image_intensity(folder_path):\n",
    "    \"\"\"\n",
    "    Opens all images in a given folder, sums their pixel values,\n",
    "    and returns a list where each value represents the total intensity\n",
    "    (sum of all pixel values) for each image. Also extracts timestamps from filenames.\n",
    "    \n",
    "    Parameters:\n",
    "        folder_path (str): Path to the folder containing images.\n",
    "    \n",
    "    Returns:\n",
    "        list: A list of summed pixel intensities for each image.\n",
    "        list: A list of datetime objects extracted from filenames.\n",
    "    \"\"\"\n",
    "    intensity_list = []\n",
    "    date_list = []\n",
    "\n",
    "    # Matches common image formats\n",
    "    image_paths = sorted(glob.glob(os.path.join(folder_path, \"*.[pjJP][pnPNgG]*\")))  # jpg, png, jpeg, JPG, PNG, etc.\n",
    "    \n",
    "    for path in image_paths:\n",
    "        filename = os.path.basename(path)\n",
    "        date_str, time_str, *_ = filename.split(\"_\")[:2]\n",
    "        datetime_obj = datetime.datetime.strptime(date_str + time_str, \"%Y%m%d%H%M%S\")\n",
    "        date_list.append(datetime_obj)\n",
    "\n",
    "        with Image.open(path) as img:\n",
    "            img_array = np.array(img.convert('L'), dtype=np.float64)  # Convert to grayscale\n",
    "            intensity_list.append(np.sum(img_array))\n",
    "\n",
    "    return intensity_list, date_list\n",
    "\n",
    "def plot_intensity(intensities, timestamps):\n",
    "    \"\"\"\n",
    "    Plots the summed pixel intensities of images in the folder using extracted timestamps.\n",
    "    \"\"\"    \n",
    "    plt.figure(figsize=(10, 5))\n",
    "    plt.plot(timestamps, intensities, marker='o', linestyle='-')\n",
    "    plt.xlabel(\"Timestamp\")\n",
    "    plt.ylabel(\"Summed Pixel Intensity\")\n",
    "    plt.title(\"Light Intensity of Images\")\n",
    "    plt.xticks(rotation=45)\n",
    "    plt.grid(True)\n",
    "    plt.show()"
   ],
   "outputs": [],
   "metadata": {}
  },
  {
   "cell_type": "code",
   "execution_count": 39,
   "source": [
    "import plotly.graph_objects as go\n",
    "\n",
    "def plot_intensity_plotly(intensities, timestamps, highlight_range=None):\n",
    "    \"\"\"\n",
    "    Plots the summed pixel intensities of images in the folder using extracted timestamps with Plotly.\n",
    "    \n",
    "    Parameters:\n",
    "    - intensities: List of summed pixel intensities.\n",
    "    - timestamps: List of corresponding timestamps.\n",
    "    - highlight_range: Tuple or list with two timestamps marking the region to highlight (optional).\n",
    "    \"\"\"    \n",
    "    fig = go.Figure()\n",
    "    \n",
    "    # Plot intensity curve\n",
    "    fig.add_trace(go.Scatter(x=timestamps, y=intensities, mode='lines+markers', name='Intensity'))\n",
    "    \n",
    "    # Highlight background between two timestamps if highlight_range is provided\n",
    "    if highlight_range:\n",
    "        for points in highlight_range:\n",
    "            fig.add_shape(\n",
    "                type=\"rect\",\n",
    "                x0=points[0], x1=points[1],\n",
    "                y0=min(intensities), y1=max(intensities),  # Cover full Y range\n",
    "                fillcolor=\"rgba(144, 238, 144, 0.4)\",  # Light green with transparency\n",
    "                layer=\"below\",\n",
    "                line_width=0,\n",
    "            )\n",
    "    \n",
    "    fig.update_layout(\n",
    "        title=\"Light Intensity of Images\",\n",
    "        xaxis_title=\"Timestamp\",\n",
    "        yaxis_title=\"Summed Pixel Intensity\",\n",
    "        xaxis=dict(tickangle=45),\n",
    "        template=\"plotly_white\"\n",
    "    )\n",
    "    \n",
    "    fig.show()"
   ],
   "outputs": [],
   "metadata": {}
  },
  {
   "cell_type": "markdown",
   "source": [
    "# CME de 02 de Junho de 2011 (08:12:06)"
   ],
   "metadata": {}
  },
  {
   "cell_type": "code",
   "execution_count": 40,
   "source": [
    "folder = \"/Users/beatrizduque/Downloads/Mestrado/aia-observations/sun-2011-06-04/\"\n",
    "intensities, timestamps = sum_image_intensity(folder)"
   ],
   "outputs": [],
   "metadata": {}
  },
  {
   "cell_type": "code",
   "execution_count": 44,
   "source": [
    "initial_time_1 = \"2011-06-05 04:24:33\"\n",
    "final_time_1 = \"2011-06-05 07:54:33\"\n",
    "\n",
    "cme_interval = [[initial_time_1, final_time_1]]"
   ],
   "outputs": [],
   "metadata": {}
  },
  {
   "cell_type": "code",
   "execution_count": 45,
   "source": [
    "plot_intensity_plotly(intensities, timestamps, cme_interval)"
   ],
   "outputs": [
    {
     "output_type": "display_data",
     "data": {
      "application/vnd.plotly.v1+json": {
       "data": [
        {
         "mode": "lines+markers",
         "name": "Intensity",
         "x": [
          "2011-06-04T00:09:33",
          "2011-06-04T00:26:33",
          "2011-06-04T00:41:33",
          "2011-06-04T00:55:33",
          "2011-06-04T01:11:33",
          "2011-06-04T01:25:33",
          "2011-06-04T01:41:33",
          "2011-06-04T01:54:33",
          "2011-06-04T02:10:33",
          "2011-06-04T02:24:33",
          "2011-06-04T02:36:33",
          "2011-06-04T02:53:33",
          "2011-06-04T03:07:33",
          "2011-06-04T03:22:33",
          "2011-06-04T03:35:33",
          "2011-06-04T03:48:33",
          "2011-06-04T04:04:33",
          "2011-06-04T04:20:33",
          "2011-06-04T04:37:33",
          "2011-06-04T04:52:33",
          "2011-06-04T05:05:33",
          "2011-06-04T05:20:33",
          "2011-06-04T05:35:33",
          "2011-06-04T05:50:33",
          "2011-06-04T06:04:33",
          "2011-06-04T06:15:33",
          "2011-06-04T06:29:33",
          "2011-06-04T06:45:33",
          "2011-06-04T07:00:09",
          "2011-06-04T07:13:33",
          "2011-06-04T07:28:33",
          "2011-06-04T07:44:33",
          "2011-06-04T08:01:33",
          "2011-06-04T08:22:33",
          "2011-06-04T08:36:33",
          "2011-06-04T08:52:33",
          "2011-06-04T09:09:33",
          "2011-06-04T09:22:33",
          "2011-06-04T09:36:33",
          "2011-06-04T09:55:33",
          "2011-06-04T10:09:33",
          "2011-06-04T10:23:33",
          "2011-06-04T10:38:33",
          "2011-06-04T10:55:33",
          "2011-06-04T11:07:33",
          "2011-06-04T11:23:33",
          "2011-06-04T11:40:33",
          "2011-06-04T11:54:33",
          "2011-06-04T12:09:33",
          "2011-06-04T12:24:33",
          "2011-06-04T12:37:33",
          "2011-06-04T12:55:33",
          "2011-06-04T13:09:33",
          "2011-06-04T13:22:33",
          "2011-06-04T13:39:33",
          "2011-06-04T13:53:33",
          "2011-06-04T14:08:33",
          "2011-06-04T14:25:33",
          "2011-06-04T14:39:33",
          "2011-06-04T14:54:33",
          "2011-06-04T15:08:33",
          "2011-06-04T15:23:33",
          "2011-06-04T15:38:33",
          "2011-06-04T15:54:33",
          "2011-06-04T16:08:33",
          "2011-06-04T16:24:33",
          "2011-06-04T16:37:33",
          "2011-06-04T16:53:33",
          "2011-06-04T17:09:33",
          "2011-06-04T17:24:33",
          "2011-06-04T17:38:33",
          "2011-06-04T17:53:33",
          "2011-06-04T18:10:33",
          "2011-06-04T18:25:33",
          "2011-06-04T18:40:33",
          "2011-06-04T18:54:33",
          "2011-06-04T19:08:33",
          "2011-06-04T19:24:33",
          "2011-06-04T19:40:33",
          "2011-06-04T19:54:33",
          "2011-06-04T20:09:33",
          "2011-06-04T20:24:33",
          "2011-06-04T20:38:33",
          "2011-06-04T20:56:33",
          "2011-06-04T21:10:33",
          "2011-06-04T21:24:33",
          "2011-06-04T21:39:33",
          "2011-06-04T21:53:33",
          "2011-06-04T22:09:33",
          "2011-06-04T22:22:33",
          "2011-06-04T22:38:33",
          "2011-06-04T22:54:33",
          "2011-06-04T23:11:33",
          "2011-06-04T23:24:33",
          "2011-06-04T23:40:33",
          "2011-06-04T23:54:33",
          "2011-06-05T00:09:33",
          "2011-06-05T00:25:33",
          "2011-06-05T00:41:33",
          "2011-06-05T00:56:33",
          "2011-06-05T01:11:33",
          "2011-06-05T01:25:33",
          "2011-06-05T01:40:33",
          "2011-06-05T01:55:33",
          "2011-06-05T02:11:33",
          "2011-06-05T02:26:33",
          "2011-06-05T02:40:33",
          "2011-06-05T02:55:33",
          "2011-06-05T03:10:33",
          "2011-06-05T03:24:33",
          "2011-06-05T03:41:33",
          "2011-06-05T03:55:33",
          "2011-06-05T04:10:33",
          "2011-06-05T04:24:33",
          "2011-06-05T04:36:33",
          "2011-06-05T04:49:33",
          "2011-06-05T04:57:33",
          "2011-06-05T05:10:33",
          "2011-06-05T05:36:33",
          "2011-06-05T05:52:33",
          "2011-06-05T06:08:33",
          "2011-06-05T06:26:33",
          "2011-06-05T06:39:33",
          "2011-06-05T06:50:33",
          "2011-06-05T07:09:33",
          "2011-06-05T07:20:33",
          "2011-06-05T07:42:33",
          "2011-06-05T07:54:33",
          "2011-06-05T08:09:33",
          "2011-06-05T08:23:33",
          "2011-06-05T08:39:33",
          "2011-06-05T08:53:33",
          "2011-06-05T09:10:33",
          "2011-06-05T09:25:33",
          "2011-06-05T09:40:33",
          "2011-06-05T09:54:33",
          "2011-06-05T10:09:33",
          "2011-06-05T10:24:33",
          "2011-06-05T10:41:33",
          "2011-06-05T10:54:33",
          "2011-06-05T11:09:33",
          "2011-06-05T11:24:33",
          "2011-06-05T11:38:33",
          "2011-06-05T11:54:33",
          "2011-06-05T12:10:33",
          "2011-06-05T12:23:33",
          "2011-06-05T12:40:33",
          "2011-06-05T12:54:33",
          "2011-06-05T13:08:33",
          "2011-06-05T13:24:33",
          "2011-06-05T13:39:33",
          "2011-06-05T13:54:33",
          "2011-06-05T14:10:33",
          "2011-06-05T14:23:33",
          "2011-06-05T14:38:33",
          "2011-06-05T14:46:33",
          "2011-06-05T14:52:33",
          "2011-06-05T14:54:33",
          "2011-06-05T15:35:33",
          "2011-06-05T15:50:33",
          "2011-06-05T16:04:33",
          "2011-06-05T16:20:33",
          "2011-06-05T16:30:33",
          "2011-06-05T16:45:33",
          "2011-06-05T17:09:33",
          "2011-06-05T17:22:33",
          "2011-06-05T17:36:33",
          "2011-06-05T17:51:33",
          "2011-06-05T18:08:33",
          "2011-06-05T18:21:33",
          "2011-06-05T18:31:33",
          "2011-06-05T18:44:33",
          "2011-06-05T19:00:33",
          "2011-06-05T19:10:33",
          "2011-06-05T19:32:33",
          "2011-06-05T19:54:33",
          "2011-06-05T20:08:33",
          "2011-06-05T20:23:33",
          "2011-06-05T20:33:33",
          "2011-06-05T20:54:33",
          "2011-06-05T21:08:33",
          "2011-06-05T21:24:33",
          "2011-06-05T21:38:33",
          "2011-06-05T21:52:33",
          "2011-06-05T22:05:33",
          "2011-06-05T22:23:33",
          "2011-06-05T22:37:33",
          "2011-06-05T22:53:33",
          "2011-06-05T23:06:33",
          "2011-06-05T23:24:33",
          "2011-06-05T23:37:33",
          "2011-06-05T23:54:33"
         ],
         "y": [
          15183613,
          15187560,
          15163230,
          15159160,
          15185362,
          15194166,
          15194813,
          15206892,
          15203243,
          15183967,
          15179781,
          15196644,
          15192832,
          15198907,
          15171425,
          15177186,
          15197814,
          15206608,
          15204027,
          15180253,
          15170741,
          15172029,
          15185668,
          15199099,
          15172435,
          15188543,
          15206347,
          15216920,
          15204511,
          15210438,
          15196730,
          15208607,
          15226788,
          15208995,
          15209853,
          15205771,
          15212904,
          15221991,
          15240338,
          15226109,
          15220589,
          15208022,
          15239960,
          15220625,
          15211220,
          15221567,
          15222418,
          15222790,
          15239817,
          15238394,
          15246733,
          15252270,
          15250893,
          15249522,
          15255533,
          15248091,
          15251310,
          15257718,
          15270230,
          15258173,
          15251030,
          15256121,
          15276011,
          15260037,
          15255630,
          15246629,
          15244663,
          15242213,
          15250821,
          15242994,
          15258105,
          15258402,
          15262240,
          15258125,
          15242676,
          15241142,
          15244609,
          15237117,
          15258176,
          15251532,
          15249386,
          15232020,
          15233029,
          15248619,
          15231919,
          15236583,
          15253973,
          15222690,
          15231838,
          15244331,
          15227385,
          15215942,
          15212759,
          15205273,
          15214639,
          15201907,
          15200279,
          15208124,
          15223321,
          15375913,
          15347199,
          15323519,
          15309742,
          15315275,
          15320692,
          15310133,
          15311297,
          15328155,
          15309730,
          15309434,
          15305050,
          15323964,
          15298601,
          15293375,
          15294942,
          15273181,
          15267737,
          15281755,
          15294321,
          15296412,
          15312192,
          15356227,
          15349179,
          15368831,
          15374171,
          15364949,
          15345015,
          15375258,
          15366202,
          15364465,
          15365563,
          15363924,
          15368101,
          15355162,
          15370722,
          15406664,
          15400779,
          15405330,
          15370562,
          15383139,
          15365121,
          15408733,
          15391657,
          15382997,
          15373264,
          15404026,
          15424187,
          15427030,
          15425658,
          15404067,
          15414725,
          15401800,
          15381732,
          15365602,
          15380701,
          15379186,
          15370165,
          15367047,
          15386286,
          15364786,
          15392076,
          15395380,
          15394553,
          15348252,
          15363823,
          15357784,
          15336177,
          15336578,
          15325674,
          15335932,
          15336317,
          15320137,
          15320953,
          15306659,
          15319278,
          15319179,
          15318794,
          15311497,
          15310649,
          15334461,
          15321704,
          15311820,
          15326848,
          15289128,
          15295460,
          15307455,
          15305410,
          15310440,
          15296624,
          15292476,
          15289300,
          15304106
         ],
         "type": "scatter"
        }
       ],
       "layout": {
        "template": {
         "data": {
          "barpolar": [
           {
            "marker": {
             "line": {
              "color": "white",
              "width": 0.5
             },
             "pattern": {
              "fillmode": "overlay",
              "size": 10,
              "solidity": 0.2
             }
            },
            "type": "barpolar"
           }
          ],
          "bar": [
           {
            "error_x": {
             "color": "#2a3f5f"
            },
            "error_y": {
             "color": "#2a3f5f"
            },
            "marker": {
             "line": {
              "color": "white",
              "width": 0.5
             },
             "pattern": {
              "fillmode": "overlay",
              "size": 10,
              "solidity": 0.2
             }
            },
            "type": "bar"
           }
          ],
          "carpet": [
           {
            "aaxis": {
             "endlinecolor": "#2a3f5f",
             "gridcolor": "#C8D4E3",
             "linecolor": "#C8D4E3",
             "minorgridcolor": "#C8D4E3",
             "startlinecolor": "#2a3f5f"
            },
            "baxis": {
             "endlinecolor": "#2a3f5f",
             "gridcolor": "#C8D4E3",
             "linecolor": "#C8D4E3",
             "minorgridcolor": "#C8D4E3",
             "startlinecolor": "#2a3f5f"
            },
            "type": "carpet"
           }
          ],
          "choropleth": [
           {
            "colorbar": {
             "outlinewidth": 0,
             "ticks": ""
            },
            "type": "choropleth"
           }
          ],
          "contourcarpet": [
           {
            "colorbar": {
             "outlinewidth": 0,
             "ticks": ""
            },
            "type": "contourcarpet"
           }
          ],
          "contour": [
           {
            "colorbar": {
             "outlinewidth": 0,
             "ticks": ""
            },
            "colorscale": [
             [
              0,
              "#0d0887"
             ],
             [
              0.1111111111111111,
              "#46039f"
             ],
             [
              0.2222222222222222,
              "#7201a8"
             ],
             [
              0.3333333333333333,
              "#9c179e"
             ],
             [
              0.4444444444444444,
              "#bd3786"
             ],
             [
              0.5555555555555556,
              "#d8576b"
             ],
             [
              0.6666666666666666,
              "#ed7953"
             ],
             [
              0.7777777777777778,
              "#fb9f3a"
             ],
             [
              0.8888888888888888,
              "#fdca26"
             ],
             [
              1,
              "#f0f921"
             ]
            ],
            "type": "contour"
           }
          ],
          "heatmapgl": [
           {
            "colorbar": {
             "outlinewidth": 0,
             "ticks": ""
            },
            "colorscale": [
             [
              0,
              "#0d0887"
             ],
             [
              0.1111111111111111,
              "#46039f"
             ],
             [
              0.2222222222222222,
              "#7201a8"
             ],
             [
              0.3333333333333333,
              "#9c179e"
             ],
             [
              0.4444444444444444,
              "#bd3786"
             ],
             [
              0.5555555555555556,
              "#d8576b"
             ],
             [
              0.6666666666666666,
              "#ed7953"
             ],
             [
              0.7777777777777778,
              "#fb9f3a"
             ],
             [
              0.8888888888888888,
              "#fdca26"
             ],
             [
              1,
              "#f0f921"
             ]
            ],
            "type": "heatmapgl"
           }
          ],
          "heatmap": [
           {
            "colorbar": {
             "outlinewidth": 0,
             "ticks": ""
            },
            "colorscale": [
             [
              0,
              "#0d0887"
             ],
             [
              0.1111111111111111,
              "#46039f"
             ],
             [
              0.2222222222222222,
              "#7201a8"
             ],
             [
              0.3333333333333333,
              "#9c179e"
             ],
             [
              0.4444444444444444,
              "#bd3786"
             ],
             [
              0.5555555555555556,
              "#d8576b"
             ],
             [
              0.6666666666666666,
              "#ed7953"
             ],
             [
              0.7777777777777778,
              "#fb9f3a"
             ],
             [
              0.8888888888888888,
              "#fdca26"
             ],
             [
              1,
              "#f0f921"
             ]
            ],
            "type": "heatmap"
           }
          ],
          "histogram2dcontour": [
           {
            "colorbar": {
             "outlinewidth": 0,
             "ticks": ""
            },
            "colorscale": [
             [
              0,
              "#0d0887"
             ],
             [
              0.1111111111111111,
              "#46039f"
             ],
             [
              0.2222222222222222,
              "#7201a8"
             ],
             [
              0.3333333333333333,
              "#9c179e"
             ],
             [
              0.4444444444444444,
              "#bd3786"
             ],
             [
              0.5555555555555556,
              "#d8576b"
             ],
             [
              0.6666666666666666,
              "#ed7953"
             ],
             [
              0.7777777777777778,
              "#fb9f3a"
             ],
             [
              0.8888888888888888,
              "#fdca26"
             ],
             [
              1,
              "#f0f921"
             ]
            ],
            "type": "histogram2dcontour"
           }
          ],
          "histogram2d": [
           {
            "colorbar": {
             "outlinewidth": 0,
             "ticks": ""
            },
            "colorscale": [
             [
              0,
              "#0d0887"
             ],
             [
              0.1111111111111111,
              "#46039f"
             ],
             [
              0.2222222222222222,
              "#7201a8"
             ],
             [
              0.3333333333333333,
              "#9c179e"
             ],
             [
              0.4444444444444444,
              "#bd3786"
             ],
             [
              0.5555555555555556,
              "#d8576b"
             ],
             [
              0.6666666666666666,
              "#ed7953"
             ],
             [
              0.7777777777777778,
              "#fb9f3a"
             ],
             [
              0.8888888888888888,
              "#fdca26"
             ],
             [
              1,
              "#f0f921"
             ]
            ],
            "type": "histogram2d"
           }
          ],
          "histogram": [
           {
            "marker": {
             "pattern": {
              "fillmode": "overlay",
              "size": 10,
              "solidity": 0.2
             }
            },
            "type": "histogram"
           }
          ],
          "mesh3d": [
           {
            "colorbar": {
             "outlinewidth": 0,
             "ticks": ""
            },
            "type": "mesh3d"
           }
          ],
          "parcoords": [
           {
            "line": {
             "colorbar": {
              "outlinewidth": 0,
              "ticks": ""
             }
            },
            "type": "parcoords"
           }
          ],
          "pie": [
           {
            "automargin": true,
            "type": "pie"
           }
          ],
          "scatter3d": [
           {
            "line": {
             "colorbar": {
              "outlinewidth": 0,
              "ticks": ""
             }
            },
            "marker": {
             "colorbar": {
              "outlinewidth": 0,
              "ticks": ""
             }
            },
            "type": "scatter3d"
           }
          ],
          "scattercarpet": [
           {
            "marker": {
             "colorbar": {
              "outlinewidth": 0,
              "ticks": ""
             }
            },
            "type": "scattercarpet"
           }
          ],
          "scattergeo": [
           {
            "marker": {
             "colorbar": {
              "outlinewidth": 0,
              "ticks": ""
             }
            },
            "type": "scattergeo"
           }
          ],
          "scattergl": [
           {
            "marker": {
             "colorbar": {
              "outlinewidth": 0,
              "ticks": ""
             }
            },
            "type": "scattergl"
           }
          ],
          "scattermapbox": [
           {
            "marker": {
             "colorbar": {
              "outlinewidth": 0,
              "ticks": ""
             }
            },
            "type": "scattermapbox"
           }
          ],
          "scatterpolargl": [
           {
            "marker": {
             "colorbar": {
              "outlinewidth": 0,
              "ticks": ""
             }
            },
            "type": "scatterpolargl"
           }
          ],
          "scatterpolar": [
           {
            "marker": {
             "colorbar": {
              "outlinewidth": 0,
              "ticks": ""
             }
            },
            "type": "scatterpolar"
           }
          ],
          "scatter": [
           {
            "fillpattern": {
             "fillmode": "overlay",
             "size": 10,
             "solidity": 0.2
            },
            "type": "scatter"
           }
          ],
          "scatterternary": [
           {
            "marker": {
             "colorbar": {
              "outlinewidth": 0,
              "ticks": ""
             }
            },
            "type": "scatterternary"
           }
          ],
          "surface": [
           {
            "colorbar": {
             "outlinewidth": 0,
             "ticks": ""
            },
            "colorscale": [
             [
              0,
              "#0d0887"
             ],
             [
              0.1111111111111111,
              "#46039f"
             ],
             [
              0.2222222222222222,
              "#7201a8"
             ],
             [
              0.3333333333333333,
              "#9c179e"
             ],
             [
              0.4444444444444444,
              "#bd3786"
             ],
             [
              0.5555555555555556,
              "#d8576b"
             ],
             [
              0.6666666666666666,
              "#ed7953"
             ],
             [
              0.7777777777777778,
              "#fb9f3a"
             ],
             [
              0.8888888888888888,
              "#fdca26"
             ],
             [
              1,
              "#f0f921"
             ]
            ],
            "type": "surface"
           }
          ],
          "table": [
           {
            "cells": {
             "fill": {
              "color": "#EBF0F8"
             },
             "line": {
              "color": "white"
             }
            },
            "header": {
             "fill": {
              "color": "#C8D4E3"
             },
             "line": {
              "color": "white"
             }
            },
            "type": "table"
           }
          ]
         },
         "layout": {
          "annotationdefaults": {
           "arrowcolor": "#2a3f5f",
           "arrowhead": 0,
           "arrowwidth": 1
          },
          "autotypenumbers": "strict",
          "coloraxis": {
           "colorbar": {
            "outlinewidth": 0,
            "ticks": ""
           }
          },
          "colorscale": {
           "diverging": [
            [
             0,
             "#8e0152"
            ],
            [
             0.1,
             "#c51b7d"
            ],
            [
             0.2,
             "#de77ae"
            ],
            [
             0.3,
             "#f1b6da"
            ],
            [
             0.4,
             "#fde0ef"
            ],
            [
             0.5,
             "#f7f7f7"
            ],
            [
             0.6,
             "#e6f5d0"
            ],
            [
             0.7,
             "#b8e186"
            ],
            [
             0.8,
             "#7fbc41"
            ],
            [
             0.9,
             "#4d9221"
            ],
            [
             1,
             "#276419"
            ]
           ],
           "sequential": [
            [
             0,
             "#0d0887"
            ],
            [
             0.1111111111111111,
             "#46039f"
            ],
            [
             0.2222222222222222,
             "#7201a8"
            ],
            [
             0.3333333333333333,
             "#9c179e"
            ],
            [
             0.4444444444444444,
             "#bd3786"
            ],
            [
             0.5555555555555556,
             "#d8576b"
            ],
            [
             0.6666666666666666,
             "#ed7953"
            ],
            [
             0.7777777777777778,
             "#fb9f3a"
            ],
            [
             0.8888888888888888,
             "#fdca26"
            ],
            [
             1,
             "#f0f921"
            ]
           ],
           "sequentialminus": [
            [
             0,
             "#0d0887"
            ],
            [
             0.1111111111111111,
             "#46039f"
            ],
            [
             0.2222222222222222,
             "#7201a8"
            ],
            [
             0.3333333333333333,
             "#9c179e"
            ],
            [
             0.4444444444444444,
             "#bd3786"
            ],
            [
             0.5555555555555556,
             "#d8576b"
            ],
            [
             0.6666666666666666,
             "#ed7953"
            ],
            [
             0.7777777777777778,
             "#fb9f3a"
            ],
            [
             0.8888888888888888,
             "#fdca26"
            ],
            [
             1,
             "#f0f921"
            ]
           ]
          },
          "colorway": [
           "#636efa",
           "#EF553B",
           "#00cc96",
           "#ab63fa",
           "#FFA15A",
           "#19d3f3",
           "#FF6692",
           "#B6E880",
           "#FF97FF",
           "#FECB52"
          ],
          "font": {
           "color": "#2a3f5f"
          },
          "geo": {
           "bgcolor": "white",
           "lakecolor": "white",
           "landcolor": "white",
           "showlakes": true,
           "showland": true,
           "subunitcolor": "#C8D4E3"
          },
          "hoverlabel": {
           "align": "left"
          },
          "hovermode": "closest",
          "mapbox": {
           "style": "light"
          },
          "paper_bgcolor": "white",
          "plot_bgcolor": "white",
          "polar": {
           "angularaxis": {
            "gridcolor": "#EBF0F8",
            "linecolor": "#EBF0F8",
            "ticks": ""
           },
           "bgcolor": "white",
           "radialaxis": {
            "gridcolor": "#EBF0F8",
            "linecolor": "#EBF0F8",
            "ticks": ""
           }
          },
          "scene": {
           "xaxis": {
            "backgroundcolor": "white",
            "gridcolor": "#DFE8F3",
            "gridwidth": 2,
            "linecolor": "#EBF0F8",
            "showbackground": true,
            "ticks": "",
            "zerolinecolor": "#EBF0F8"
           },
           "yaxis": {
            "backgroundcolor": "white",
            "gridcolor": "#DFE8F3",
            "gridwidth": 2,
            "linecolor": "#EBF0F8",
            "showbackground": true,
            "ticks": "",
            "zerolinecolor": "#EBF0F8"
           },
           "zaxis": {
            "backgroundcolor": "white",
            "gridcolor": "#DFE8F3",
            "gridwidth": 2,
            "linecolor": "#EBF0F8",
            "showbackground": true,
            "ticks": "",
            "zerolinecolor": "#EBF0F8"
           }
          },
          "shapedefaults": {
           "line": {
            "color": "#2a3f5f"
           }
          },
          "ternary": {
           "aaxis": {
            "gridcolor": "#DFE8F3",
            "linecolor": "#A2B1C6",
            "ticks": ""
           },
           "baxis": {
            "gridcolor": "#DFE8F3",
            "linecolor": "#A2B1C6",
            "ticks": ""
           },
           "bgcolor": "white",
           "caxis": {
            "gridcolor": "#DFE8F3",
            "linecolor": "#A2B1C6",
            "ticks": ""
           }
          },
          "title": {
           "x": 0.05
          },
          "xaxis": {
           "automargin": true,
           "gridcolor": "#EBF0F8",
           "linecolor": "#EBF0F8",
           "ticks": "",
           "title": {
            "standoff": 15
           },
           "zerolinecolor": "#EBF0F8",
           "zerolinewidth": 2
          },
          "yaxis": {
           "automargin": true,
           "gridcolor": "#EBF0F8",
           "linecolor": "#EBF0F8",
           "ticks": "",
           "title": {
            "standoff": 15
           },
           "zerolinecolor": "#EBF0F8",
           "zerolinewidth": 2
          }
         }
        },
        "shapes": [
         {
          "fillcolor": "rgba(144, 238, 144, 0.4)",
          "layer": "below",
          "line": {
           "width": 0
          },
          "type": "rect",
          "x0": "2011-06-05 04:24:33",
          "x1": "2011-06-05 07:54:33",
          "y0": 15159160,
          "y1": 15427030
         }
        ],
        "xaxis": {
         "title": {
          "text": "Timestamp"
         },
         "tickangle": 45
        },
        "title": {
         "text": "Light Intensity of Images"
        },
        "yaxis": {
         "title": {
          "text": "Summed Pixel Intensity"
         }
        }
       },
       "config": {
        "plotlyServerURL": "https://plot.ly"
       }
      }
     },
     "metadata": {}
    }
   ],
   "metadata": {}
  },
  {
   "cell_type": "markdown",
   "source": [
    "# CMES de 04 (22:05:02) e 05 (03:44:23) de Junho de 2011"
   ],
   "metadata": {}
  },
  {
   "cell_type": "code",
   "execution_count": 64,
   "source": [
    "folder = \"2011_06_04\"\n",
    "intensities, timestamps = sum_image_intensity(folder)"
   ],
   "outputs": [],
   "metadata": {}
  },
  {
   "cell_type": "code",
   "execution_count": 67,
   "source": [
    "initial_time_1 = \"2011-06-04 21:53:33\"\n",
    "final_time_1 = \"2011-06-04 22:54:33\"\n",
    "\n",
    "initial_time_2 = \"2011-06-05 04:24:33\"\n",
    "final_time_2 = \"2011-06-05 07:54:33\"\n",
    "cme_interval = [[initial_time_1, final_time_1], [initial_time_2, final_time_2]]"
   ],
   "outputs": [],
   "metadata": {}
  },
  {
   "cell_type": "code",
   "execution_count": 68,
   "source": [
    "plot_intensity_plotly(intensities, timestamps, cme_interval)"
   ],
   "outputs": [
    {
     "output_type": "display_data",
     "data": {
      "application/vnd.plotly.v1+json": {
       "config": {
        "plotlyServerURL": "https://plot.ly"
       },
       "data": [
        {
         "mode": "lines+markers",
         "name": "Intensity",
         "type": "scatter",
         "x": [
          "2011-06-04T00:09:33",
          "2011-06-04T00:26:33",
          "2011-06-04T00:41:33",
          "2011-06-04T00:55:33",
          "2011-06-04T01:11:33",
          "2011-06-04T01:25:33",
          "2011-06-04T01:41:33",
          "2011-06-04T01:54:33",
          "2011-06-04T02:10:33",
          "2011-06-04T02:24:33",
          "2011-06-04T02:36:33",
          "2011-06-04T02:53:33",
          "2011-06-04T03:07:33",
          "2011-06-04T03:22:33",
          "2011-06-04T03:35:33",
          "2011-06-04T03:48:33",
          "2011-06-04T04:04:33",
          "2011-06-04T04:20:33",
          "2011-06-04T04:37:33",
          "2011-06-04T04:52:33",
          "2011-06-04T05:05:33",
          "2011-06-04T05:20:33",
          "2011-06-04T05:35:33",
          "2011-06-04T05:50:33",
          "2011-06-04T06:04:33",
          "2011-06-04T06:15:33",
          "2011-06-04T06:29:33",
          "2011-06-04T06:45:33",
          "2011-06-04T07:00:09",
          "2011-06-04T07:13:33",
          "2011-06-04T07:28:33",
          "2011-06-04T07:44:33",
          "2011-06-04T08:01:33",
          "2011-06-04T08:22:33",
          "2011-06-04T08:36:33",
          "2011-06-04T08:52:33",
          "2011-06-04T09:09:33",
          "2011-06-04T09:22:33",
          "2011-06-04T09:36:33",
          "2011-06-04T09:55:33",
          "2011-06-04T10:09:33",
          "2011-06-04T10:23:33",
          "2011-06-04T10:38:33",
          "2011-06-04T10:55:33",
          "2011-06-04T11:07:33",
          "2011-06-04T11:23:33",
          "2011-06-04T11:40:33",
          "2011-06-04T11:54:33",
          "2011-06-04T12:09:33",
          "2011-06-04T12:24:33",
          "2011-06-04T12:37:33",
          "2011-06-04T12:55:33",
          "2011-06-04T13:09:33",
          "2011-06-04T13:22:33",
          "2011-06-04T13:39:33",
          "2011-06-04T13:53:33",
          "2011-06-04T14:08:33",
          "2011-06-04T14:25:33",
          "2011-06-04T14:39:33",
          "2011-06-04T14:54:33",
          "2011-06-04T15:08:33",
          "2011-06-04T15:23:33",
          "2011-06-04T15:38:33",
          "2011-06-04T15:54:33",
          "2011-06-04T16:08:33",
          "2011-06-04T16:24:33",
          "2011-06-04T16:37:33",
          "2011-06-04T16:53:33",
          "2011-06-04T17:09:33",
          "2011-06-04T17:24:33",
          "2011-06-04T17:38:33",
          "2011-06-04T17:53:33",
          "2011-06-04T18:10:33",
          "2011-06-04T18:25:33",
          "2011-06-04T18:40:33",
          "2011-06-04T18:54:33",
          "2011-06-04T19:08:33",
          "2011-06-04T19:24:33",
          "2011-06-04T19:40:33",
          "2011-06-04T19:54:33",
          "2011-06-04T20:09:33",
          "2011-06-04T20:24:33",
          "2011-06-04T20:38:33",
          "2011-06-04T20:56:33",
          "2011-06-04T21:10:33",
          "2011-06-04T21:24:33",
          "2011-06-04T21:39:33",
          "2011-06-04T21:53:33",
          "2011-06-04T22:09:33",
          "2011-06-04T22:22:33",
          "2011-06-04T22:38:33",
          "2011-06-04T22:54:33",
          "2011-06-04T23:11:33",
          "2011-06-04T23:24:33",
          "2011-06-04T23:40:33",
          "2011-06-04T23:54:33",
          "2011-06-05T00:09:33",
          "2011-06-05T00:25:33",
          "2011-06-05T00:41:33",
          "2011-06-05T00:56:33",
          "2011-06-05T01:11:33",
          "2011-06-05T01:25:33",
          "2011-06-05T01:40:33",
          "2011-06-05T01:55:33",
          "2011-06-05T02:11:33",
          "2011-06-05T02:26:33",
          "2011-06-05T02:40:33",
          "2011-06-05T02:55:33",
          "2011-06-05T03:10:33",
          "2011-06-05T03:24:33",
          "2011-06-05T03:41:33",
          "2011-06-05T03:55:33",
          "2011-06-05T04:10:33",
          "2011-06-05T04:24:33",
          "2011-06-05T04:36:33",
          "2011-06-05T04:49:33",
          "2011-06-05T04:57:33",
          "2011-06-05T05:10:33",
          "2011-06-05T05:36:33",
          "2011-06-05T05:52:33",
          "2011-06-05T06:08:33",
          "2011-06-05T06:26:33",
          "2011-06-05T06:39:33",
          "2011-06-05T06:50:33",
          "2011-06-05T07:09:33",
          "2011-06-05T07:20:33",
          "2011-06-05T07:42:33",
          "2011-06-05T07:54:33",
          "2011-06-05T08:09:33",
          "2011-06-05T08:23:33",
          "2011-06-05T08:39:33",
          "2011-06-05T08:53:33",
          "2011-06-05T09:10:33",
          "2011-06-05T09:25:33",
          "2011-06-05T09:40:33",
          "2011-06-05T09:54:33",
          "2011-06-05T10:09:33",
          "2011-06-05T10:24:33",
          "2011-06-05T10:41:33",
          "2011-06-05T10:54:33",
          "2011-06-05T11:09:33",
          "2011-06-05T11:24:33",
          "2011-06-05T11:38:33",
          "2011-06-05T11:54:33",
          "2011-06-05T12:10:33",
          "2011-06-05T12:23:33",
          "2011-06-05T12:40:33",
          "2011-06-05T12:54:33",
          "2011-06-05T13:08:33",
          "2011-06-05T13:24:33",
          "2011-06-05T13:39:33",
          "2011-06-05T13:54:33",
          "2011-06-05T14:10:33",
          "2011-06-05T14:23:33",
          "2011-06-05T14:38:33",
          "2011-06-05T14:46:33",
          "2011-06-05T14:52:33",
          "2011-06-05T14:54:33",
          "2011-06-05T15:35:33",
          "2011-06-05T15:50:33",
          "2011-06-05T16:04:33",
          "2011-06-05T16:20:33",
          "2011-06-05T16:30:33",
          "2011-06-05T16:45:33",
          "2011-06-05T17:09:33",
          "2011-06-05T17:22:33",
          "2011-06-05T17:36:33",
          "2011-06-05T17:51:33",
          "2011-06-05T18:08:33",
          "2011-06-05T18:21:33",
          "2011-06-05T18:31:33",
          "2011-06-05T18:44:33",
          "2011-06-05T19:00:33",
          "2011-06-05T19:10:33",
          "2011-06-05T19:32:33",
          "2011-06-05T19:54:33",
          "2011-06-05T20:08:33",
          "2011-06-05T20:23:33",
          "2011-06-05T20:33:33",
          "2011-06-05T20:54:33",
          "2011-06-05T21:08:33",
          "2011-06-05T21:24:33",
          "2011-06-05T21:38:33",
          "2011-06-05T21:52:33",
          "2011-06-05T22:05:33",
          "2011-06-05T22:23:33",
          "2011-06-05T22:37:33",
          "2011-06-05T22:53:33",
          "2011-06-05T23:06:33",
          "2011-06-05T23:24:33",
          "2011-06-05T23:37:33",
          "2011-06-05T23:54:33"
         ],
         "y": [
          15183613,
          15187560,
          15163230,
          15159160,
          15185362,
          15194166,
          15194813,
          15206892,
          15203243,
          15183967,
          15179781,
          15196644,
          15192832,
          15198907,
          15171425,
          15177186,
          15197814,
          15206608,
          15204027,
          15180253,
          15170741,
          15172029,
          15185668,
          15199099,
          15172435,
          15188543,
          15206347,
          15216920,
          15204511,
          15210438,
          15196730,
          15208607,
          15226788,
          15208995,
          15209853,
          15205771,
          15212904,
          15221991,
          15240338,
          15226109,
          15220589,
          15208022,
          15239960,
          15220625,
          15211220,
          15221567,
          15222418,
          15222790,
          15239817,
          15238394,
          15246733,
          15252270,
          15250893,
          15249522,
          15255533,
          15248091,
          15251310,
          15257718,
          15270230,
          15258173,
          15251030,
          15256121,
          15276011,
          15260037,
          15255630,
          15246629,
          15244663,
          15242213,
          15250821,
          15242994,
          15258105,
          15258402,
          15262240,
          15258125,
          15242676,
          15241142,
          15244609,
          15237117,
          15258176,
          15251532,
          15249386,
          15232020,
          15233029,
          15248619,
          15231919,
          15236583,
          15253973,
          15222690,
          15231838,
          15244331,
          15227385,
          15215942,
          15212759,
          15205273,
          15214639,
          15201907,
          15200279,
          15208124,
          15223321,
          15375913,
          15347199,
          15323519,
          15309742,
          15315275,
          15320692,
          15310133,
          15311297,
          15328155,
          15309730,
          15309434,
          15305050,
          15323964,
          15298601,
          15293375,
          15294942,
          15273181,
          15267737,
          15281755,
          15294321,
          15296412,
          15312192,
          15356227,
          15349179,
          15368831,
          15374171,
          15364949,
          15345015,
          15375258,
          15366202,
          15364465,
          15365563,
          15363924,
          15368101,
          15355162,
          15370722,
          15406664,
          15400779,
          15405330,
          15370562,
          15383139,
          15365121,
          15408733,
          15391657,
          15382997,
          15373264,
          15404026,
          15424187,
          15427030,
          15425658,
          15404067,
          15414725,
          15401800,
          15381732,
          15365602,
          15380701,
          15379186,
          15370165,
          15367047,
          15386286,
          15364786,
          15392076,
          15395380,
          15394553,
          15348252,
          15363823,
          15357784,
          15336177,
          15336578,
          15325674,
          15335932,
          15336317,
          15320137,
          15320953,
          15306659,
          15319278,
          15319179,
          15318794,
          15311497,
          15310649,
          15334461,
          15321704,
          15311820,
          15326848,
          15289128,
          15295460,
          15307455,
          15305410,
          15310440,
          15296624,
          15292476,
          15289300,
          15304106
         ]
        }
       ],
       "layout": {
        "shapes": [
         {
          "fillcolor": "rgba(144, 238, 144, 0.4)",
          "layer": "below",
          "line": {
           "width": 0
          },
          "type": "rect",
          "x0": "2011-06-04 21:53:33",
          "x1": "2011-06-04 22:54:33",
          "y0": 15159160,
          "y1": 15427030
         },
         {
          "fillcolor": "rgba(144, 238, 144, 0.4)",
          "layer": "below",
          "line": {
           "width": 0
          },
          "type": "rect",
          "x0": "2011-06-05 04:24:33",
          "x1": "2011-06-05 07:54:33",
          "y0": 15159160,
          "y1": 15427030
         }
        ],
        "template": {
         "data": {
          "bar": [
           {
            "error_x": {
             "color": "#2a3f5f"
            },
            "error_y": {
             "color": "#2a3f5f"
            },
            "marker": {
             "line": {
              "color": "white",
              "width": 0.5
             },
             "pattern": {
              "fillmode": "overlay",
              "size": 10,
              "solidity": 0.2
             }
            },
            "type": "bar"
           }
          ],
          "barpolar": [
           {
            "marker": {
             "line": {
              "color": "white",
              "width": 0.5
             },
             "pattern": {
              "fillmode": "overlay",
              "size": 10,
              "solidity": 0.2
             }
            },
            "type": "barpolar"
           }
          ],
          "carpet": [
           {
            "aaxis": {
             "endlinecolor": "#2a3f5f",
             "gridcolor": "#C8D4E3",
             "linecolor": "#C8D4E3",
             "minorgridcolor": "#C8D4E3",
             "startlinecolor": "#2a3f5f"
            },
            "baxis": {
             "endlinecolor": "#2a3f5f",
             "gridcolor": "#C8D4E3",
             "linecolor": "#C8D4E3",
             "minorgridcolor": "#C8D4E3",
             "startlinecolor": "#2a3f5f"
            },
            "type": "carpet"
           }
          ],
          "choropleth": [
           {
            "colorbar": {
             "outlinewidth": 0,
             "ticks": ""
            },
            "type": "choropleth"
           }
          ],
          "contour": [
           {
            "colorbar": {
             "outlinewidth": 0,
             "ticks": ""
            },
            "colorscale": [
             [
              0,
              "#0d0887"
             ],
             [
              0.1111111111111111,
              "#46039f"
             ],
             [
              0.2222222222222222,
              "#7201a8"
             ],
             [
              0.3333333333333333,
              "#9c179e"
             ],
             [
              0.4444444444444444,
              "#bd3786"
             ],
             [
              0.5555555555555556,
              "#d8576b"
             ],
             [
              0.6666666666666666,
              "#ed7953"
             ],
             [
              0.7777777777777778,
              "#fb9f3a"
             ],
             [
              0.8888888888888888,
              "#fdca26"
             ],
             [
              1,
              "#f0f921"
             ]
            ],
            "type": "contour"
           }
          ],
          "contourcarpet": [
           {
            "colorbar": {
             "outlinewidth": 0,
             "ticks": ""
            },
            "type": "contourcarpet"
           }
          ],
          "heatmap": [
           {
            "colorbar": {
             "outlinewidth": 0,
             "ticks": ""
            },
            "colorscale": [
             [
              0,
              "#0d0887"
             ],
             [
              0.1111111111111111,
              "#46039f"
             ],
             [
              0.2222222222222222,
              "#7201a8"
             ],
             [
              0.3333333333333333,
              "#9c179e"
             ],
             [
              0.4444444444444444,
              "#bd3786"
             ],
             [
              0.5555555555555556,
              "#d8576b"
             ],
             [
              0.6666666666666666,
              "#ed7953"
             ],
             [
              0.7777777777777778,
              "#fb9f3a"
             ],
             [
              0.8888888888888888,
              "#fdca26"
             ],
             [
              1,
              "#f0f921"
             ]
            ],
            "type": "heatmap"
           }
          ],
          "heatmapgl": [
           {
            "colorbar": {
             "outlinewidth": 0,
             "ticks": ""
            },
            "colorscale": [
             [
              0,
              "#0d0887"
             ],
             [
              0.1111111111111111,
              "#46039f"
             ],
             [
              0.2222222222222222,
              "#7201a8"
             ],
             [
              0.3333333333333333,
              "#9c179e"
             ],
             [
              0.4444444444444444,
              "#bd3786"
             ],
             [
              0.5555555555555556,
              "#d8576b"
             ],
             [
              0.6666666666666666,
              "#ed7953"
             ],
             [
              0.7777777777777778,
              "#fb9f3a"
             ],
             [
              0.8888888888888888,
              "#fdca26"
             ],
             [
              1,
              "#f0f921"
             ]
            ],
            "type": "heatmapgl"
           }
          ],
          "histogram": [
           {
            "marker": {
             "pattern": {
              "fillmode": "overlay",
              "size": 10,
              "solidity": 0.2
             }
            },
            "type": "histogram"
           }
          ],
          "histogram2d": [
           {
            "colorbar": {
             "outlinewidth": 0,
             "ticks": ""
            },
            "colorscale": [
             [
              0,
              "#0d0887"
             ],
             [
              0.1111111111111111,
              "#46039f"
             ],
             [
              0.2222222222222222,
              "#7201a8"
             ],
             [
              0.3333333333333333,
              "#9c179e"
             ],
             [
              0.4444444444444444,
              "#bd3786"
             ],
             [
              0.5555555555555556,
              "#d8576b"
             ],
             [
              0.6666666666666666,
              "#ed7953"
             ],
             [
              0.7777777777777778,
              "#fb9f3a"
             ],
             [
              0.8888888888888888,
              "#fdca26"
             ],
             [
              1,
              "#f0f921"
             ]
            ],
            "type": "histogram2d"
           }
          ],
          "histogram2dcontour": [
           {
            "colorbar": {
             "outlinewidth": 0,
             "ticks": ""
            },
            "colorscale": [
             [
              0,
              "#0d0887"
             ],
             [
              0.1111111111111111,
              "#46039f"
             ],
             [
              0.2222222222222222,
              "#7201a8"
             ],
             [
              0.3333333333333333,
              "#9c179e"
             ],
             [
              0.4444444444444444,
              "#bd3786"
             ],
             [
              0.5555555555555556,
              "#d8576b"
             ],
             [
              0.6666666666666666,
              "#ed7953"
             ],
             [
              0.7777777777777778,
              "#fb9f3a"
             ],
             [
              0.8888888888888888,
              "#fdca26"
             ],
             [
              1,
              "#f0f921"
             ]
            ],
            "type": "histogram2dcontour"
           }
          ],
          "mesh3d": [
           {
            "colorbar": {
             "outlinewidth": 0,
             "ticks": ""
            },
            "type": "mesh3d"
           }
          ],
          "parcoords": [
           {
            "line": {
             "colorbar": {
              "outlinewidth": 0,
              "ticks": ""
             }
            },
            "type": "parcoords"
           }
          ],
          "pie": [
           {
            "automargin": true,
            "type": "pie"
           }
          ],
          "scatter": [
           {
            "fillpattern": {
             "fillmode": "overlay",
             "size": 10,
             "solidity": 0.2
            },
            "type": "scatter"
           }
          ],
          "scatter3d": [
           {
            "line": {
             "colorbar": {
              "outlinewidth": 0,
              "ticks": ""
             }
            },
            "marker": {
             "colorbar": {
              "outlinewidth": 0,
              "ticks": ""
             }
            },
            "type": "scatter3d"
           }
          ],
          "scattercarpet": [
           {
            "marker": {
             "colorbar": {
              "outlinewidth": 0,
              "ticks": ""
             }
            },
            "type": "scattercarpet"
           }
          ],
          "scattergeo": [
           {
            "marker": {
             "colorbar": {
              "outlinewidth": 0,
              "ticks": ""
             }
            },
            "type": "scattergeo"
           }
          ],
          "scattergl": [
           {
            "marker": {
             "colorbar": {
              "outlinewidth": 0,
              "ticks": ""
             }
            },
            "type": "scattergl"
           }
          ],
          "scattermapbox": [
           {
            "marker": {
             "colorbar": {
              "outlinewidth": 0,
              "ticks": ""
             }
            },
            "type": "scattermapbox"
           }
          ],
          "scatterpolar": [
           {
            "marker": {
             "colorbar": {
              "outlinewidth": 0,
              "ticks": ""
             }
            },
            "type": "scatterpolar"
           }
          ],
          "scatterpolargl": [
           {
            "marker": {
             "colorbar": {
              "outlinewidth": 0,
              "ticks": ""
             }
            },
            "type": "scatterpolargl"
           }
          ],
          "scatterternary": [
           {
            "marker": {
             "colorbar": {
              "outlinewidth": 0,
              "ticks": ""
             }
            },
            "type": "scatterternary"
           }
          ],
          "surface": [
           {
            "colorbar": {
             "outlinewidth": 0,
             "ticks": ""
            },
            "colorscale": [
             [
              0,
              "#0d0887"
             ],
             [
              0.1111111111111111,
              "#46039f"
             ],
             [
              0.2222222222222222,
              "#7201a8"
             ],
             [
              0.3333333333333333,
              "#9c179e"
             ],
             [
              0.4444444444444444,
              "#bd3786"
             ],
             [
              0.5555555555555556,
              "#d8576b"
             ],
             [
              0.6666666666666666,
              "#ed7953"
             ],
             [
              0.7777777777777778,
              "#fb9f3a"
             ],
             [
              0.8888888888888888,
              "#fdca26"
             ],
             [
              1,
              "#f0f921"
             ]
            ],
            "type": "surface"
           }
          ],
          "table": [
           {
            "cells": {
             "fill": {
              "color": "#EBF0F8"
             },
             "line": {
              "color": "white"
             }
            },
            "header": {
             "fill": {
              "color": "#C8D4E3"
             },
             "line": {
              "color": "white"
             }
            },
            "type": "table"
           }
          ]
         },
         "layout": {
          "annotationdefaults": {
           "arrowcolor": "#2a3f5f",
           "arrowhead": 0,
           "arrowwidth": 1
          },
          "autotypenumbers": "strict",
          "coloraxis": {
           "colorbar": {
            "outlinewidth": 0,
            "ticks": ""
           }
          },
          "colorscale": {
           "diverging": [
            [
             0,
             "#8e0152"
            ],
            [
             0.1,
             "#c51b7d"
            ],
            [
             0.2,
             "#de77ae"
            ],
            [
             0.3,
             "#f1b6da"
            ],
            [
             0.4,
             "#fde0ef"
            ],
            [
             0.5,
             "#f7f7f7"
            ],
            [
             0.6,
             "#e6f5d0"
            ],
            [
             0.7,
             "#b8e186"
            ],
            [
             0.8,
             "#7fbc41"
            ],
            [
             0.9,
             "#4d9221"
            ],
            [
             1,
             "#276419"
            ]
           ],
           "sequential": [
            [
             0,
             "#0d0887"
            ],
            [
             0.1111111111111111,
             "#46039f"
            ],
            [
             0.2222222222222222,
             "#7201a8"
            ],
            [
             0.3333333333333333,
             "#9c179e"
            ],
            [
             0.4444444444444444,
             "#bd3786"
            ],
            [
             0.5555555555555556,
             "#d8576b"
            ],
            [
             0.6666666666666666,
             "#ed7953"
            ],
            [
             0.7777777777777778,
             "#fb9f3a"
            ],
            [
             0.8888888888888888,
             "#fdca26"
            ],
            [
             1,
             "#f0f921"
            ]
           ],
           "sequentialminus": [
            [
             0,
             "#0d0887"
            ],
            [
             0.1111111111111111,
             "#46039f"
            ],
            [
             0.2222222222222222,
             "#7201a8"
            ],
            [
             0.3333333333333333,
             "#9c179e"
            ],
            [
             0.4444444444444444,
             "#bd3786"
            ],
            [
             0.5555555555555556,
             "#d8576b"
            ],
            [
             0.6666666666666666,
             "#ed7953"
            ],
            [
             0.7777777777777778,
             "#fb9f3a"
            ],
            [
             0.8888888888888888,
             "#fdca26"
            ],
            [
             1,
             "#f0f921"
            ]
           ]
          },
          "colorway": [
           "#636efa",
           "#EF553B",
           "#00cc96",
           "#ab63fa",
           "#FFA15A",
           "#19d3f3",
           "#FF6692",
           "#B6E880",
           "#FF97FF",
           "#FECB52"
          ],
          "font": {
           "color": "#2a3f5f"
          },
          "geo": {
           "bgcolor": "white",
           "lakecolor": "white",
           "landcolor": "white",
           "showlakes": true,
           "showland": true,
           "subunitcolor": "#C8D4E3"
          },
          "hoverlabel": {
           "align": "left"
          },
          "hovermode": "closest",
          "mapbox": {
           "style": "light"
          },
          "paper_bgcolor": "white",
          "plot_bgcolor": "white",
          "polar": {
           "angularaxis": {
            "gridcolor": "#EBF0F8",
            "linecolor": "#EBF0F8",
            "ticks": ""
           },
           "bgcolor": "white",
           "radialaxis": {
            "gridcolor": "#EBF0F8",
            "linecolor": "#EBF0F8",
            "ticks": ""
           }
          },
          "scene": {
           "xaxis": {
            "backgroundcolor": "white",
            "gridcolor": "#DFE8F3",
            "gridwidth": 2,
            "linecolor": "#EBF0F8",
            "showbackground": true,
            "ticks": "",
            "zerolinecolor": "#EBF0F8"
           },
           "yaxis": {
            "backgroundcolor": "white",
            "gridcolor": "#DFE8F3",
            "gridwidth": 2,
            "linecolor": "#EBF0F8",
            "showbackground": true,
            "ticks": "",
            "zerolinecolor": "#EBF0F8"
           },
           "zaxis": {
            "backgroundcolor": "white",
            "gridcolor": "#DFE8F3",
            "gridwidth": 2,
            "linecolor": "#EBF0F8",
            "showbackground": true,
            "ticks": "",
            "zerolinecolor": "#EBF0F8"
           }
          },
          "shapedefaults": {
           "line": {
            "color": "#2a3f5f"
           }
          },
          "ternary": {
           "aaxis": {
            "gridcolor": "#DFE8F3",
            "linecolor": "#A2B1C6",
            "ticks": ""
           },
           "baxis": {
            "gridcolor": "#DFE8F3",
            "linecolor": "#A2B1C6",
            "ticks": ""
           },
           "bgcolor": "white",
           "caxis": {
            "gridcolor": "#DFE8F3",
            "linecolor": "#A2B1C6",
            "ticks": ""
           }
          },
          "title": {
           "x": 0.05
          },
          "xaxis": {
           "automargin": true,
           "gridcolor": "#EBF0F8",
           "linecolor": "#EBF0F8",
           "ticks": "",
           "title": {
            "standoff": 15
           },
           "zerolinecolor": "#EBF0F8",
           "zerolinewidth": 2
          },
          "yaxis": {
           "automargin": true,
           "gridcolor": "#EBF0F8",
           "linecolor": "#EBF0F8",
           "ticks": "",
           "title": {
            "standoff": 15
           },
           "zerolinecolor": "#EBF0F8",
           "zerolinewidth": 2
          }
         }
        },
        "title": {
         "text": "Light Intensity of Images"
        },
        "xaxis": {
         "tickangle": 45,
         "title": {
          "text": "Timestamp"
         }
        },
        "yaxis": {
         "title": {
          "text": "Summed Pixel Intensity"
         }
        }
       }
      }
     },
     "metadata": {}
    }
   ],
   "metadata": {}
  },
  {
   "cell_type": "markdown",
   "source": [
    "# CME de 14 de Junho de 2011 (06:12:05)"
   ],
   "metadata": {}
  },
  {
   "cell_type": "code",
   "execution_count": 57,
   "source": [
    "folder = \"2011_06_14\"\n",
    "intensities, timestamps = sum_image_intensity(folder)"
   ],
   "outputs": [],
   "metadata": {}
  },
  {
   "cell_type": "code",
   "execution_count": 61,
   "source": [
    "initial_time_1 = \"2011-06-14 02:56:09\"\n",
    "final_time_1 = \"2011-06-14 07:10:09\"\n",
    "\n",
    "cme_interval = [[initial_time_1, final_time_1]]"
   ],
   "outputs": [],
   "metadata": {}
  },
  {
   "cell_type": "code",
   "execution_count": 63,
   "source": [
    "plot_intensity_plotly(intensities, timestamps, cme_interval)"
   ],
   "outputs": [
    {
     "output_type": "display_data",
     "data": {
      "application/vnd.plotly.v1+json": {
       "config": {
        "plotlyServerURL": "https://plot.ly"
       },
       "data": [
        {
         "mode": "lines+markers",
         "name": "Intensity",
         "type": "scatter",
         "x": [
          "2011-06-14T00:10:09",
          "2011-06-14T00:24:09",
          "2011-06-14T00:41:09",
          "2011-06-14T00:55:09",
          "2011-06-14T01:10:09",
          "2011-06-14T01:25:09",
          "2011-06-14T01:39:09",
          "2011-06-14T01:57:09",
          "2011-06-14T02:11:09",
          "2011-06-14T02:26:09",
          "2011-06-14T02:40:09",
          "2011-06-14T02:56:09",
          "2011-06-14T03:10:09",
          "2011-06-14T03:24:09",
          "2011-06-14T03:40:09",
          "2011-06-14T03:55:09",
          "2011-06-14T04:11:09",
          "2011-06-14T04:25:09",
          "2011-06-14T04:39:09",
          "2011-06-14T04:56:09",
          "2011-06-14T05:11:09",
          "2011-06-14T05:27:09",
          "2011-06-14T05:40:09",
          "2011-06-14T05:56:09",
          "2011-06-14T06:09:09",
          "2011-06-14T06:24:09",
          "2011-06-14T06:41:09",
          "2011-06-14T06:54:09",
          "2011-06-14T07:10:09",
          "2011-06-14T07:25:09",
          "2011-06-14T07:42:09",
          "2011-06-14T07:56:09",
          "2011-06-14T08:10:09",
          "2011-06-14T08:26:09",
          "2011-06-14T08:40:09",
          "2011-06-14T08:55:09",
          "2011-06-14T09:10:09",
          "2011-06-14T09:25:09",
          "2011-06-14T09:39:09",
          "2011-06-14T09:56:09",
          "2011-06-14T10:11:09",
          "2011-06-14T10:25:09",
          "2011-06-14T10:39:09",
          "2011-06-14T10:55:09",
          "2011-06-14T11:12:09",
          "2011-06-14T11:25:09",
          "2011-06-14T11:41:09",
          "2011-06-14T11:54:09",
          "2011-06-14T12:09:09",
          "2011-06-14T12:24:09",
          "2011-06-14T12:41:09",
          "2011-06-14T12:55:09",
          "2011-06-14T13:09:09",
          "2011-06-14T13:25:09",
          "2011-06-14T13:39:09",
          "2011-06-14T13:56:09",
          "2011-06-14T14:10:09",
          "2011-06-14T14:25:09",
          "2011-06-14T14:41:09",
          "2011-06-14T14:54:09",
          "2011-06-14T15:08:09",
          "2011-06-14T15:26:09",
          "2011-06-14T15:40:09",
          "2011-06-14T15:54:09",
          "2011-06-14T16:09:09",
          "2011-06-14T16:27:09",
          "2011-06-14T16:41:09",
          "2011-06-14T16:50:09",
          "2011-06-14T17:11:09",
          "2011-06-14T17:40:09",
          "2011-06-14T17:54:09",
          "2011-06-14T18:09:09",
          "2011-06-14T18:23:09",
          "2011-06-14T18:41:09",
          "2011-06-14T18:55:09",
          "2011-06-14T19:10:09",
          "2011-06-14T19:25:09",
          "2011-06-14T19:40:09",
          "2011-06-14T19:56:09",
          "2011-06-14T20:38:09",
          "2011-06-14T20:54:09",
          "2011-06-14T21:08:09",
          "2011-06-14T21:22:09",
          "2011-06-14T21:39:09",
          "2011-06-14T21:53:09",
          "2011-06-14T22:06:09",
          "2011-06-14T22:16:09",
          "2011-06-14T22:33:09",
          "2011-06-14T22:49:09",
          "2011-06-14T23:08:09",
          "2011-06-14T23:23:09",
          "2011-06-14T23:36:09",
          "2011-06-14T23:54:09",
          "2011-06-15T00:09:09",
          "2011-06-15T00:23:09",
          "2011-06-15T00:39:09",
          "2011-06-15T00:56:09",
          "2011-06-15T01:11:09",
          "2011-06-15T01:25:09",
          "2011-06-15T01:39:09",
          "2011-06-15T01:54:09",
          "2011-06-15T02:09:09",
          "2011-06-15T02:22:09",
          "2011-06-15T02:36:09",
          "2011-06-15T02:52:09",
          "2011-06-15T03:11:09",
          "2011-06-15T03:23:09",
          "2011-06-15T03:37:09",
          "2011-06-15T03:56:09",
          "2011-06-15T04:09:09",
          "2011-06-15T04:28:09",
          "2011-06-15T04:41:09",
          "2011-06-15T04:56:09",
          "2011-06-15T05:11:09",
          "2011-06-15T05:24:09",
          "2011-06-15T05:40:09",
          "2011-06-15T05:54:09",
          "2011-06-15T06:07:09",
          "2011-06-15T06:25:09",
          "2011-06-15T06:36:09",
          "2011-06-15T06:56:09",
          "2011-06-15T07:09:09",
          "2011-06-15T07:23:09",
          "2011-06-15T07:38:09",
          "2011-06-15T07:53:09",
          "2011-06-15T08:09:09",
          "2011-06-15T08:22:09",
          "2011-06-15T08:37:09",
          "2011-06-15T08:53:09",
          "2011-06-15T09:07:09",
          "2011-06-15T09:25:09",
          "2011-06-15T09:37:09",
          "2011-06-15T09:54:09",
          "2011-06-15T10:09:09",
          "2011-06-15T10:22:09",
          "2011-06-15T10:39:09",
          "2011-06-15T10:54:09",
          "2011-06-15T11:08:09",
          "2011-06-15T11:24:09",
          "2011-06-15T11:38:09",
          "2011-06-15T11:54:09",
          "2011-06-15T12:09:09",
          "2011-06-15T12:24:09",
          "2011-06-15T12:35:09",
          "2011-06-15T12:48:09",
          "2011-06-15T13:26:09",
          "2011-06-15T13:54:09",
          "2011-06-15T14:12:09",
          "2011-06-15T14:26:09",
          "2011-06-15T14:41:09",
          "2011-06-15T14:55:09",
          "2011-06-15T15:10:09",
          "2011-06-15T15:25:09",
          "2011-06-15T15:40:09",
          "2011-06-15T15:54:09",
          "2011-06-15T16:26:09",
          "2011-06-15T16:41:09",
          "2011-06-15T16:56:09",
          "2011-06-15T17:10:09",
          "2011-06-15T17:39:09",
          "2011-06-15T17:54:09",
          "2011-06-15T18:11:09",
          "2011-06-15T18:26:09",
          "2011-06-15T18:40:09",
          "2011-06-15T18:56:09",
          "2011-06-15T19:11:09",
          "2011-06-15T19:25:09",
          "2011-06-15T19:39:09",
          "2011-06-15T19:54:09",
          "2011-06-15T20:11:09",
          "2011-06-15T20:26:09",
          "2011-06-15T20:40:09",
          "2011-06-15T20:55:09",
          "2011-06-15T21:10:09",
          "2011-06-15T21:25:09",
          "2011-06-15T21:39:09",
          "2011-06-15T21:55:09",
          "2011-06-15T22:08:09",
          "2011-06-15T22:24:09",
          "2011-06-15T22:41:09",
          "2011-06-15T22:56:09",
          "2011-06-15T23:09:09",
          "2011-06-15T23:27:09",
          "2011-06-15T23:41:09",
          "2011-06-15T23:56:09"
         ],
         "y": [
          14410745,
          14406393,
          14399573,
          14383365,
          14383465,
          14372899,
          14381343,
          14380901,
          14371347,
          14377260,
          14371712,
          14372991,
          14374147,
          14383251,
          14367919,
          14398374,
          14410213,
          14437682,
          14424614,
          14416078,
          14406172,
          14420597,
          14417893,
          14401561,
          14381248,
          14364355,
          14384401,
          14385992,
          14360967,
          14373890,
          14363349,
          14386270,
          14394602,
          14388879,
          14388888,
          14387025,
          14387819,
          14364879,
          14398776,
          14385471,
          14387352,
          14392334,
          14380162,
          14384487,
          14407219,
          14404262,
          14429910,
          14382785,
          14414036,
          14412315,
          14403009,
          14434772,
          14427989,
          14421075,
          14431885,
          14441607,
          14470983,
          14473913,
          14446506,
          14422144,
          14445281,
          14456972,
          14442470,
          14440010,
          14452331,
          14433672,
          14460263,
          14451755,
          14429114,
          14432858,
          14423281,
          14451823,
          14453943,
          14464988,
          14461528,
          14448960,
          14457687,
          14454959,
          14457566,
          14437353,
          14430789,
          14423055,
          14426330,
          14424306,
          14482037,
          14488289,
          14480414,
          14462316,
          14465727,
          14466935,
          14455139,
          14454948,
          14453552,
          14453647,
          14460899,
          14452670,
          14456865,
          14451912,
          14433722,
          14425382,
          14427895,
          14442776,
          14435964,
          14434056,
          14426678,
          14424766,
          14421463,
          14429172,
          14461171,
          14460650,
          14480898,
          14472851,
          14483794,
          14486574,
          14478613,
          14475578,
          14464260,
          14444522,
          14451019,
          14447465,
          14478937,
          14501776,
          14482194,
          14477417,
          14497327,
          14494280,
          14477588,
          14467662,
          14486875,
          14498278,
          14471973,
          14480818,
          14493378,
          14493523,
          14499746,
          14536386,
          14517321,
          14528382,
          14523616,
          14525972,
          14541777,
          14543337,
          14516161,
          14513934,
          14519459,
          14518956,
          14505717,
          14486026,
          14493261,
          14520012,
          14523100,
          14510023,
          14516844,
          14474984,
          14499825,
          14482814,
          14488432,
          14473873,
          14500366,
          14505084,
          14491380,
          14487265,
          14470738,
          14460795,
          14439730,
          14423095,
          14397624,
          14401936,
          14388418,
          14395652,
          14423420,
          14411849,
          14396501,
          14411762,
          14394154,
          14380311,
          14393087,
          14406137,
          14395451,
          14413862,
          14407402,
          14422940,
          14422982,
          14411108,
          14421884
         ]
        }
       ],
       "layout": {
        "shapes": [
         {
          "fillcolor": "rgba(144, 238, 144, 0.4)",
          "layer": "below",
          "line": {
           "width": 0
          },
          "type": "rect",
          "x0": "2011-06-14 02:56:09",
          "x1": "2011-06-14 07:10:09",
          "y0": 14360967,
          "y1": 14543337
         }
        ],
        "template": {
         "data": {
          "bar": [
           {
            "error_x": {
             "color": "#2a3f5f"
            },
            "error_y": {
             "color": "#2a3f5f"
            },
            "marker": {
             "line": {
              "color": "white",
              "width": 0.5
             },
             "pattern": {
              "fillmode": "overlay",
              "size": 10,
              "solidity": 0.2
             }
            },
            "type": "bar"
           }
          ],
          "barpolar": [
           {
            "marker": {
             "line": {
              "color": "white",
              "width": 0.5
             },
             "pattern": {
              "fillmode": "overlay",
              "size": 10,
              "solidity": 0.2
             }
            },
            "type": "barpolar"
           }
          ],
          "carpet": [
           {
            "aaxis": {
             "endlinecolor": "#2a3f5f",
             "gridcolor": "#C8D4E3",
             "linecolor": "#C8D4E3",
             "minorgridcolor": "#C8D4E3",
             "startlinecolor": "#2a3f5f"
            },
            "baxis": {
             "endlinecolor": "#2a3f5f",
             "gridcolor": "#C8D4E3",
             "linecolor": "#C8D4E3",
             "minorgridcolor": "#C8D4E3",
             "startlinecolor": "#2a3f5f"
            },
            "type": "carpet"
           }
          ],
          "choropleth": [
           {
            "colorbar": {
             "outlinewidth": 0,
             "ticks": ""
            },
            "type": "choropleth"
           }
          ],
          "contour": [
           {
            "colorbar": {
             "outlinewidth": 0,
             "ticks": ""
            },
            "colorscale": [
             [
              0,
              "#0d0887"
             ],
             [
              0.1111111111111111,
              "#46039f"
             ],
             [
              0.2222222222222222,
              "#7201a8"
             ],
             [
              0.3333333333333333,
              "#9c179e"
             ],
             [
              0.4444444444444444,
              "#bd3786"
             ],
             [
              0.5555555555555556,
              "#d8576b"
             ],
             [
              0.6666666666666666,
              "#ed7953"
             ],
             [
              0.7777777777777778,
              "#fb9f3a"
             ],
             [
              0.8888888888888888,
              "#fdca26"
             ],
             [
              1,
              "#f0f921"
             ]
            ],
            "type": "contour"
           }
          ],
          "contourcarpet": [
           {
            "colorbar": {
             "outlinewidth": 0,
             "ticks": ""
            },
            "type": "contourcarpet"
           }
          ],
          "heatmap": [
           {
            "colorbar": {
             "outlinewidth": 0,
             "ticks": ""
            },
            "colorscale": [
             [
              0,
              "#0d0887"
             ],
             [
              0.1111111111111111,
              "#46039f"
             ],
             [
              0.2222222222222222,
              "#7201a8"
             ],
             [
              0.3333333333333333,
              "#9c179e"
             ],
             [
              0.4444444444444444,
              "#bd3786"
             ],
             [
              0.5555555555555556,
              "#d8576b"
             ],
             [
              0.6666666666666666,
              "#ed7953"
             ],
             [
              0.7777777777777778,
              "#fb9f3a"
             ],
             [
              0.8888888888888888,
              "#fdca26"
             ],
             [
              1,
              "#f0f921"
             ]
            ],
            "type": "heatmap"
           }
          ],
          "heatmapgl": [
           {
            "colorbar": {
             "outlinewidth": 0,
             "ticks": ""
            },
            "colorscale": [
             [
              0,
              "#0d0887"
             ],
             [
              0.1111111111111111,
              "#46039f"
             ],
             [
              0.2222222222222222,
              "#7201a8"
             ],
             [
              0.3333333333333333,
              "#9c179e"
             ],
             [
              0.4444444444444444,
              "#bd3786"
             ],
             [
              0.5555555555555556,
              "#d8576b"
             ],
             [
              0.6666666666666666,
              "#ed7953"
             ],
             [
              0.7777777777777778,
              "#fb9f3a"
             ],
             [
              0.8888888888888888,
              "#fdca26"
             ],
             [
              1,
              "#f0f921"
             ]
            ],
            "type": "heatmapgl"
           }
          ],
          "histogram": [
           {
            "marker": {
             "pattern": {
              "fillmode": "overlay",
              "size": 10,
              "solidity": 0.2
             }
            },
            "type": "histogram"
           }
          ],
          "histogram2d": [
           {
            "colorbar": {
             "outlinewidth": 0,
             "ticks": ""
            },
            "colorscale": [
             [
              0,
              "#0d0887"
             ],
             [
              0.1111111111111111,
              "#46039f"
             ],
             [
              0.2222222222222222,
              "#7201a8"
             ],
             [
              0.3333333333333333,
              "#9c179e"
             ],
             [
              0.4444444444444444,
              "#bd3786"
             ],
             [
              0.5555555555555556,
              "#d8576b"
             ],
             [
              0.6666666666666666,
              "#ed7953"
             ],
             [
              0.7777777777777778,
              "#fb9f3a"
             ],
             [
              0.8888888888888888,
              "#fdca26"
             ],
             [
              1,
              "#f0f921"
             ]
            ],
            "type": "histogram2d"
           }
          ],
          "histogram2dcontour": [
           {
            "colorbar": {
             "outlinewidth": 0,
             "ticks": ""
            },
            "colorscale": [
             [
              0,
              "#0d0887"
             ],
             [
              0.1111111111111111,
              "#46039f"
             ],
             [
              0.2222222222222222,
              "#7201a8"
             ],
             [
              0.3333333333333333,
              "#9c179e"
             ],
             [
              0.4444444444444444,
              "#bd3786"
             ],
             [
              0.5555555555555556,
              "#d8576b"
             ],
             [
              0.6666666666666666,
              "#ed7953"
             ],
             [
              0.7777777777777778,
              "#fb9f3a"
             ],
             [
              0.8888888888888888,
              "#fdca26"
             ],
             [
              1,
              "#f0f921"
             ]
            ],
            "type": "histogram2dcontour"
           }
          ],
          "mesh3d": [
           {
            "colorbar": {
             "outlinewidth": 0,
             "ticks": ""
            },
            "type": "mesh3d"
           }
          ],
          "parcoords": [
           {
            "line": {
             "colorbar": {
              "outlinewidth": 0,
              "ticks": ""
             }
            },
            "type": "parcoords"
           }
          ],
          "pie": [
           {
            "automargin": true,
            "type": "pie"
           }
          ],
          "scatter": [
           {
            "fillpattern": {
             "fillmode": "overlay",
             "size": 10,
             "solidity": 0.2
            },
            "type": "scatter"
           }
          ],
          "scatter3d": [
           {
            "line": {
             "colorbar": {
              "outlinewidth": 0,
              "ticks": ""
             }
            },
            "marker": {
             "colorbar": {
              "outlinewidth": 0,
              "ticks": ""
             }
            },
            "type": "scatter3d"
           }
          ],
          "scattercarpet": [
           {
            "marker": {
             "colorbar": {
              "outlinewidth": 0,
              "ticks": ""
             }
            },
            "type": "scattercarpet"
           }
          ],
          "scattergeo": [
           {
            "marker": {
             "colorbar": {
              "outlinewidth": 0,
              "ticks": ""
             }
            },
            "type": "scattergeo"
           }
          ],
          "scattergl": [
           {
            "marker": {
             "colorbar": {
              "outlinewidth": 0,
              "ticks": ""
             }
            },
            "type": "scattergl"
           }
          ],
          "scattermapbox": [
           {
            "marker": {
             "colorbar": {
              "outlinewidth": 0,
              "ticks": ""
             }
            },
            "type": "scattermapbox"
           }
          ],
          "scatterpolar": [
           {
            "marker": {
             "colorbar": {
              "outlinewidth": 0,
              "ticks": ""
             }
            },
            "type": "scatterpolar"
           }
          ],
          "scatterpolargl": [
           {
            "marker": {
             "colorbar": {
              "outlinewidth": 0,
              "ticks": ""
             }
            },
            "type": "scatterpolargl"
           }
          ],
          "scatterternary": [
           {
            "marker": {
             "colorbar": {
              "outlinewidth": 0,
              "ticks": ""
             }
            },
            "type": "scatterternary"
           }
          ],
          "surface": [
           {
            "colorbar": {
             "outlinewidth": 0,
             "ticks": ""
            },
            "colorscale": [
             [
              0,
              "#0d0887"
             ],
             [
              0.1111111111111111,
              "#46039f"
             ],
             [
              0.2222222222222222,
              "#7201a8"
             ],
             [
              0.3333333333333333,
              "#9c179e"
             ],
             [
              0.4444444444444444,
              "#bd3786"
             ],
             [
              0.5555555555555556,
              "#d8576b"
             ],
             [
              0.6666666666666666,
              "#ed7953"
             ],
             [
              0.7777777777777778,
              "#fb9f3a"
             ],
             [
              0.8888888888888888,
              "#fdca26"
             ],
             [
              1,
              "#f0f921"
             ]
            ],
            "type": "surface"
           }
          ],
          "table": [
           {
            "cells": {
             "fill": {
              "color": "#EBF0F8"
             },
             "line": {
              "color": "white"
             }
            },
            "header": {
             "fill": {
              "color": "#C8D4E3"
             },
             "line": {
              "color": "white"
             }
            },
            "type": "table"
           }
          ]
         },
         "layout": {
          "annotationdefaults": {
           "arrowcolor": "#2a3f5f",
           "arrowhead": 0,
           "arrowwidth": 1
          },
          "autotypenumbers": "strict",
          "coloraxis": {
           "colorbar": {
            "outlinewidth": 0,
            "ticks": ""
           }
          },
          "colorscale": {
           "diverging": [
            [
             0,
             "#8e0152"
            ],
            [
             0.1,
             "#c51b7d"
            ],
            [
             0.2,
             "#de77ae"
            ],
            [
             0.3,
             "#f1b6da"
            ],
            [
             0.4,
             "#fde0ef"
            ],
            [
             0.5,
             "#f7f7f7"
            ],
            [
             0.6,
             "#e6f5d0"
            ],
            [
             0.7,
             "#b8e186"
            ],
            [
             0.8,
             "#7fbc41"
            ],
            [
             0.9,
             "#4d9221"
            ],
            [
             1,
             "#276419"
            ]
           ],
           "sequential": [
            [
             0,
             "#0d0887"
            ],
            [
             0.1111111111111111,
             "#46039f"
            ],
            [
             0.2222222222222222,
             "#7201a8"
            ],
            [
             0.3333333333333333,
             "#9c179e"
            ],
            [
             0.4444444444444444,
             "#bd3786"
            ],
            [
             0.5555555555555556,
             "#d8576b"
            ],
            [
             0.6666666666666666,
             "#ed7953"
            ],
            [
             0.7777777777777778,
             "#fb9f3a"
            ],
            [
             0.8888888888888888,
             "#fdca26"
            ],
            [
             1,
             "#f0f921"
            ]
           ],
           "sequentialminus": [
            [
             0,
             "#0d0887"
            ],
            [
             0.1111111111111111,
             "#46039f"
            ],
            [
             0.2222222222222222,
             "#7201a8"
            ],
            [
             0.3333333333333333,
             "#9c179e"
            ],
            [
             0.4444444444444444,
             "#bd3786"
            ],
            [
             0.5555555555555556,
             "#d8576b"
            ],
            [
             0.6666666666666666,
             "#ed7953"
            ],
            [
             0.7777777777777778,
             "#fb9f3a"
            ],
            [
             0.8888888888888888,
             "#fdca26"
            ],
            [
             1,
             "#f0f921"
            ]
           ]
          },
          "colorway": [
           "#636efa",
           "#EF553B",
           "#00cc96",
           "#ab63fa",
           "#FFA15A",
           "#19d3f3",
           "#FF6692",
           "#B6E880",
           "#FF97FF",
           "#FECB52"
          ],
          "font": {
           "color": "#2a3f5f"
          },
          "geo": {
           "bgcolor": "white",
           "lakecolor": "white",
           "landcolor": "white",
           "showlakes": true,
           "showland": true,
           "subunitcolor": "#C8D4E3"
          },
          "hoverlabel": {
           "align": "left"
          },
          "hovermode": "closest",
          "mapbox": {
           "style": "light"
          },
          "paper_bgcolor": "white",
          "plot_bgcolor": "white",
          "polar": {
           "angularaxis": {
            "gridcolor": "#EBF0F8",
            "linecolor": "#EBF0F8",
            "ticks": ""
           },
           "bgcolor": "white",
           "radialaxis": {
            "gridcolor": "#EBF0F8",
            "linecolor": "#EBF0F8",
            "ticks": ""
           }
          },
          "scene": {
           "xaxis": {
            "backgroundcolor": "white",
            "gridcolor": "#DFE8F3",
            "gridwidth": 2,
            "linecolor": "#EBF0F8",
            "showbackground": true,
            "ticks": "",
            "zerolinecolor": "#EBF0F8"
           },
           "yaxis": {
            "backgroundcolor": "white",
            "gridcolor": "#DFE8F3",
            "gridwidth": 2,
            "linecolor": "#EBF0F8",
            "showbackground": true,
            "ticks": "",
            "zerolinecolor": "#EBF0F8"
           },
           "zaxis": {
            "backgroundcolor": "white",
            "gridcolor": "#DFE8F3",
            "gridwidth": 2,
            "linecolor": "#EBF0F8",
            "showbackground": true,
            "ticks": "",
            "zerolinecolor": "#EBF0F8"
           }
          },
          "shapedefaults": {
           "line": {
            "color": "#2a3f5f"
           }
          },
          "ternary": {
           "aaxis": {
            "gridcolor": "#DFE8F3",
            "linecolor": "#A2B1C6",
            "ticks": ""
           },
           "baxis": {
            "gridcolor": "#DFE8F3",
            "linecolor": "#A2B1C6",
            "ticks": ""
           },
           "bgcolor": "white",
           "caxis": {
            "gridcolor": "#DFE8F3",
            "linecolor": "#A2B1C6",
            "ticks": ""
           }
          },
          "title": {
           "x": 0.05
          },
          "xaxis": {
           "automargin": true,
           "gridcolor": "#EBF0F8",
           "linecolor": "#EBF0F8",
           "ticks": "",
           "title": {
            "standoff": 15
           },
           "zerolinecolor": "#EBF0F8",
           "zerolinewidth": 2
          },
          "yaxis": {
           "automargin": true,
           "gridcolor": "#EBF0F8",
           "linecolor": "#EBF0F8",
           "ticks": "",
           "title": {
            "standoff": 15
           },
           "zerolinecolor": "#EBF0F8",
           "zerolinewidth": 2
          }
         }
        },
        "title": {
         "text": "Light Intensity of Images"
        },
        "xaxis": {
         "tickangle": 45,
         "title": {
          "text": "Timestamp"
         }
        },
        "yaxis": {
         "title": {
          "text": "Summed Pixel Intensity"
         }
        }
       }
      }
     },
     "metadata": {}
    }
   ],
   "metadata": {}
  },
  {
   "cell_type": "markdown",
   "source": [
    "# EXTRA! CME de 07 de Junho de 2011 (06:49:12)"
   ],
   "metadata": {}
  },
  {
   "cell_type": "code",
   "execution_count": 82,
   "source": [
    "folder = \"2011_06_06\"\n",
    "intensities, timestamps = sum_image_intensity(folder)"
   ],
   "outputs": [],
   "metadata": {}
  },
  {
   "cell_type": "code",
   "execution_count": 83,
   "source": [
    "initial_time_1 = \"2011-06-07 06:11:33\"\n",
    "final_time_1 = \"2011-06-07 10:48:33\"\n",
    "\n",
    "cme_interval = [[initial_time_1, final_time_1]]"
   ],
   "outputs": [],
   "metadata": {}
  },
  {
   "cell_type": "code",
   "execution_count": 84,
   "source": [
    "plot_intensity_plotly(intensities, timestamps, cme_interval)"
   ],
   "outputs": [
    {
     "output_type": "display_data",
     "data": {
      "application/vnd.plotly.v1+json": {
       "config": {
        "plotlyServerURL": "https://plot.ly"
       },
       "data": [
        {
         "mode": "lines+markers",
         "name": "Intensity",
         "type": "scatter",
         "x": [
          "2011-06-06T00:07:33",
          "2011-06-06T00:21:33",
          "2011-06-06T00:33:33",
          "2011-06-06T00:49:33",
          "2011-06-06T01:08:33",
          "2011-06-06T01:20:33",
          "2011-06-06T01:39:33",
          "2011-06-06T01:52:33",
          "2011-06-06T01:59:33",
          "2011-06-06T02:06:33",
          "2011-06-06T02:16:33",
          "2011-06-06T02:40:33",
          "2011-06-06T03:11:33",
          "2011-06-06T03:24:33",
          "2011-06-06T03:41:33",
          "2011-06-06T03:48:33",
          "2011-06-06T04:08:33",
          "2011-06-06T04:24:33",
          "2011-06-06T04:39:33",
          "2011-06-06T04:56:33",
          "2011-06-06T05:09:33",
          "2011-06-06T05:23:33",
          "2011-06-06T05:38:33",
          "2011-06-06T05:57:33",
          "2011-06-06T06:10:33",
          "2011-06-06T06:23:33",
          "2011-06-06T06:40:33",
          "2011-06-06T06:55:33",
          "2011-06-06T07:10:33",
          "2011-06-06T07:22:33",
          "2011-06-06T07:40:33",
          "2011-06-06T07:50:33",
          "2011-06-06T08:10:33",
          "2011-06-06T08:24:33",
          "2011-06-06T08:36:33",
          "2011-06-06T08:54:33",
          "2011-06-06T09:09:33",
          "2011-06-06T09:14:33",
          "2011-06-06T09:17:33",
          "2011-06-06T09:21:33",
          "2011-06-06T09:25:33",
          "2011-06-06T09:27:33",
          "2011-06-06T09:31:33",
          "2011-06-06T09:42:33",
          "2011-06-06T09:55:33",
          "2011-06-06T10:41:33",
          "2011-06-06T11:12:33",
          "2011-06-06T11:48:33",
          "2011-06-06T12:09:33",
          "2011-06-06T12:25:33",
          "2011-06-06T12:39:33",
          "2011-06-06T12:54:33",
          "2011-06-06T13:11:33",
          "2011-06-06T13:25:33",
          "2011-06-06T13:40:33",
          "2011-06-06T13:54:33",
          "2011-06-06T14:09:33",
          "2011-06-06T14:26:33",
          "2011-06-06T14:40:33",
          "2011-06-06T14:55:33",
          "2011-06-06T15:10:33",
          "2011-06-06T15:24:33",
          "2011-06-06T15:42:33",
          "2011-06-06T15:55:33",
          "2011-06-06T16:09:33",
          "2011-06-06T16:25:33",
          "2011-06-06T16:40:33",
          "2011-06-06T16:54:33",
          "2011-06-06T17:12:33",
          "2011-06-06T17:25:33",
          "2011-06-06T17:40:33",
          "2011-06-06T17:55:33",
          "2011-06-06T18:09:33",
          "2011-06-06T18:26:33",
          "2011-06-06T18:40:33",
          "2011-06-06T18:54:33",
          "2011-06-06T19:11:33",
          "2011-06-06T19:25:33",
          "2011-06-06T19:42:33",
          "2011-06-06T19:56:33",
          "2011-06-06T20:11:33",
          "2011-06-06T20:25:33",
          "2011-06-06T20:40:33",
          "2011-06-06T20:54:33",
          "2011-06-06T21:10:33",
          "2011-06-06T21:25:33",
          "2011-06-06T21:40:33",
          "2011-06-06T21:54:33",
          "2011-06-06T22:00:33",
          "2011-06-06T22:02:33",
          "2011-06-06T22:18:33",
          "2011-06-06T22:48:33",
          "2011-06-06T23:10:33",
          "2011-06-06T23:37:33",
          "2011-06-06T23:54:33",
          "2011-06-07T00:01:33",
          "2011-06-07T00:12:33",
          "2011-06-07T00:37:33",
          "2011-06-07T00:52:33",
          "2011-06-07T01:07:33",
          "2011-06-07T01:20:33",
          "2011-06-07T01:37:33",
          "2011-06-07T01:53:33",
          "2011-06-07T02:07:33",
          "2011-06-07T02:23:33",
          "2011-06-07T02:40:33",
          "2011-06-07T02:52:33",
          "2011-06-07T03:08:33",
          "2011-06-07T03:23:33",
          "2011-06-07T03:38:33",
          "2011-06-07T03:53:33",
          "2011-06-07T04:06:33",
          "2011-06-07T04:22:33",
          "2011-06-07T04:38:33",
          "2011-06-07T04:52:33",
          "2011-06-07T05:08:33",
          "2011-06-07T05:24:33",
          "2011-06-07T05:40:33",
          "2011-06-07T05:52:33",
          "2011-06-07T06:11:33",
          "2011-06-07T06:25:33",
          "2011-06-07T06:37:33",
          "2011-06-07T06:54:33",
          "2011-06-07T07:07:33",
          "2011-06-07T07:16:33",
          "2011-06-07T07:18:33",
          "2011-06-07T07:22:33",
          "2011-06-07T07:25:33",
          "2011-06-07T07:33:33",
          "2011-06-07T07:41:33",
          "2011-06-07T07:50:33",
          "2011-06-07T08:00:33",
          "2011-06-07T08:11:33",
          "2011-06-07T08:21:33",
          "2011-06-07T08:29:33",
          "2011-06-07T08:43:33",
          "2011-06-07T08:57:33",
          "2011-06-07T09:01:33",
          "2011-06-07T09:06:33",
          "2011-06-07T09:15:33",
          "2011-06-07T09:20:33",
          "2011-06-07T09:37:33",
          "2011-06-07T10:00:33",
          "2011-06-07T10:21:33",
          "2011-06-07T10:48:33",
          "2011-06-07T11:07:33",
          "2011-06-07T11:32:33",
          "2011-06-07T11:54:33",
          "2011-06-07T12:44:33",
          "2011-06-07T13:09:33",
          "2011-06-07T13:33:33",
          "2011-06-07T14:01:33",
          "2011-06-07T14:24:33",
          "2011-06-07T14:52:33",
          "2011-06-07T15:06:33",
          "2011-06-07T15:23:33",
          "2011-06-07T15:38:33",
          "2011-06-07T15:54:33",
          "2011-06-07T16:09:33",
          "2011-06-07T16:24:33",
          "2011-06-07T16:53:33",
          "2011-06-07T16:57:33",
          "2011-06-07T17:00:33",
          "2011-06-07T17:09:33",
          "2011-06-07T17:28:33",
          "2011-06-07T17:47:33",
          "2011-06-07T18:06:33",
          "2011-06-07T18:25:33",
          "2011-06-07T18:45:33",
          "2011-06-07T19:10:33",
          "2011-06-07T19:38:33",
          "2011-06-07T19:46:33",
          "2011-06-07T20:08:33",
          "2011-06-07T20:14:33",
          "2011-06-07T20:55:09",
          "2011-06-07T21:08:09",
          "2011-06-07T21:23:09",
          "2011-06-07T22:23:09",
          "2011-06-07T22:39:09",
          "2011-06-07T22:55:09",
          "2011-06-07T23:08:09",
          "2011-06-07T23:23:09",
          "2011-06-07T23:36:09",
          "2011-06-07T23:50:09"
         ],
         "y": [
          15312778,
          15294103,
          15311633,
          15317891,
          15322280,
          15304439,
          15309797,
          15288422,
          15286460,
          15281254,
          15268770,
          15273670,
          15276778,
          15254087,
          15257272,
          15262002,
          15265002,
          15256100,
          15260301,
          15280910,
          15261488,
          15309676,
          15360596,
          15302987,
          15320009,
          15367919,
          15367184,
          15365803,
          15352014,
          15362748,
          15354023,
          15352202,
          15359793,
          15364261,
          15368011,
          15380984,
          15369161,
          15344948,
          15340269,
          15347169,
          15340134,
          15340547,
          15326566,
          15324774,
          15321373,
          15326194,
          15300936,
          15314520,
          15305669,
          15298603,
          15297377,
          15298139,
          15267689,
          15276755,
          15267930,
          15263934,
          15250198,
          15253948,
          15258960,
          15244465,
          15242722,
          15259106,
          15268790,
          15261962,
          15249991,
          15236486,
          15230586,
          15229078,
          15211569,
          15204323,
          15217181,
          15219184,
          15199018,
          15219223,
          15207910,
          15196594,
          15179488,
          15168020,
          15178913,
          15172279,
          15153099,
          15167743,
          15191108,
          15195054,
          15166919,
          15162460,
          15172341,
          15181797,
          15174411,
          15173123,
          15164659,
          15193352,
          15193939,
          15174702,
          15182714,
          15178035,
          15193107,
          15186691,
          15175723,
          15171207,
          15179616,
          15162666,
          15140812,
          15111796,
          15124501,
          15096582,
          15113766,
          15108526,
          15097487,
          15119606,
          15108187,
          15079570,
          15098205,
          15093169,
          15081372,
          15122888,
          15092740,
          15076376,
          15090195,
          15088119,
          15377007,
          15522323,
          15291840,
          15318768,
          15311264,
          15297290,
          15284270,
          15305181,
          15310636,
          15323826,
          15358390,
          15426482,
          15439517,
          15377182,
          15372655,
          15220924,
          15122862,
          15097506,
          15111594,
          15081162,
          15082111,
          15077821,
          15050150,
          15047196,
          15038675,
          15050369,
          15011233,
          15006115,
          15069115,
          15069999,
          15085201,
          15063844,
          15062880,
          15044323,
          15043065,
          15026918,
          15033828,
          15018621,
          15008023,
          15019255,
          15022545,
          15033539,
          15038857,
          15032061,
          15010048,
          15015462,
          15027874,
          15012590,
          14993923,
          15005456,
          14999401,
          14988404,
          14990768,
          14991066,
          14969908,
          14953122,
          14951434,
          14993336,
          14981071,
          14993793,
          14994671,
          15011327,
          14997569,
          14989680
         ]
        }
       ],
       "layout": {
        "shapes": [
         {
          "fillcolor": "rgba(144, 238, 144, 0.4)",
          "layer": "below",
          "line": {
           "width": 0
          },
          "type": "rect",
          "x0": "2011-06-07 06:11:33",
          "x1": "2011-06-07 10:48:33",
          "y0": 14951434,
          "y1": 15522323
         }
        ],
        "template": {
         "data": {
          "bar": [
           {
            "error_x": {
             "color": "#2a3f5f"
            },
            "error_y": {
             "color": "#2a3f5f"
            },
            "marker": {
             "line": {
              "color": "white",
              "width": 0.5
             },
             "pattern": {
              "fillmode": "overlay",
              "size": 10,
              "solidity": 0.2
             }
            },
            "type": "bar"
           }
          ],
          "barpolar": [
           {
            "marker": {
             "line": {
              "color": "white",
              "width": 0.5
             },
             "pattern": {
              "fillmode": "overlay",
              "size": 10,
              "solidity": 0.2
             }
            },
            "type": "barpolar"
           }
          ],
          "carpet": [
           {
            "aaxis": {
             "endlinecolor": "#2a3f5f",
             "gridcolor": "#C8D4E3",
             "linecolor": "#C8D4E3",
             "minorgridcolor": "#C8D4E3",
             "startlinecolor": "#2a3f5f"
            },
            "baxis": {
             "endlinecolor": "#2a3f5f",
             "gridcolor": "#C8D4E3",
             "linecolor": "#C8D4E3",
             "minorgridcolor": "#C8D4E3",
             "startlinecolor": "#2a3f5f"
            },
            "type": "carpet"
           }
          ],
          "choropleth": [
           {
            "colorbar": {
             "outlinewidth": 0,
             "ticks": ""
            },
            "type": "choropleth"
           }
          ],
          "contour": [
           {
            "colorbar": {
             "outlinewidth": 0,
             "ticks": ""
            },
            "colorscale": [
             [
              0,
              "#0d0887"
             ],
             [
              0.1111111111111111,
              "#46039f"
             ],
             [
              0.2222222222222222,
              "#7201a8"
             ],
             [
              0.3333333333333333,
              "#9c179e"
             ],
             [
              0.4444444444444444,
              "#bd3786"
             ],
             [
              0.5555555555555556,
              "#d8576b"
             ],
             [
              0.6666666666666666,
              "#ed7953"
             ],
             [
              0.7777777777777778,
              "#fb9f3a"
             ],
             [
              0.8888888888888888,
              "#fdca26"
             ],
             [
              1,
              "#f0f921"
             ]
            ],
            "type": "contour"
           }
          ],
          "contourcarpet": [
           {
            "colorbar": {
             "outlinewidth": 0,
             "ticks": ""
            },
            "type": "contourcarpet"
           }
          ],
          "heatmap": [
           {
            "colorbar": {
             "outlinewidth": 0,
             "ticks": ""
            },
            "colorscale": [
             [
              0,
              "#0d0887"
             ],
             [
              0.1111111111111111,
              "#46039f"
             ],
             [
              0.2222222222222222,
              "#7201a8"
             ],
             [
              0.3333333333333333,
              "#9c179e"
             ],
             [
              0.4444444444444444,
              "#bd3786"
             ],
             [
              0.5555555555555556,
              "#d8576b"
             ],
             [
              0.6666666666666666,
              "#ed7953"
             ],
             [
              0.7777777777777778,
              "#fb9f3a"
             ],
             [
              0.8888888888888888,
              "#fdca26"
             ],
             [
              1,
              "#f0f921"
             ]
            ],
            "type": "heatmap"
           }
          ],
          "heatmapgl": [
           {
            "colorbar": {
             "outlinewidth": 0,
             "ticks": ""
            },
            "colorscale": [
             [
              0,
              "#0d0887"
             ],
             [
              0.1111111111111111,
              "#46039f"
             ],
             [
              0.2222222222222222,
              "#7201a8"
             ],
             [
              0.3333333333333333,
              "#9c179e"
             ],
             [
              0.4444444444444444,
              "#bd3786"
             ],
             [
              0.5555555555555556,
              "#d8576b"
             ],
             [
              0.6666666666666666,
              "#ed7953"
             ],
             [
              0.7777777777777778,
              "#fb9f3a"
             ],
             [
              0.8888888888888888,
              "#fdca26"
             ],
             [
              1,
              "#f0f921"
             ]
            ],
            "type": "heatmapgl"
           }
          ],
          "histogram": [
           {
            "marker": {
             "pattern": {
              "fillmode": "overlay",
              "size": 10,
              "solidity": 0.2
             }
            },
            "type": "histogram"
           }
          ],
          "histogram2d": [
           {
            "colorbar": {
             "outlinewidth": 0,
             "ticks": ""
            },
            "colorscale": [
             [
              0,
              "#0d0887"
             ],
             [
              0.1111111111111111,
              "#46039f"
             ],
             [
              0.2222222222222222,
              "#7201a8"
             ],
             [
              0.3333333333333333,
              "#9c179e"
             ],
             [
              0.4444444444444444,
              "#bd3786"
             ],
             [
              0.5555555555555556,
              "#d8576b"
             ],
             [
              0.6666666666666666,
              "#ed7953"
             ],
             [
              0.7777777777777778,
              "#fb9f3a"
             ],
             [
              0.8888888888888888,
              "#fdca26"
             ],
             [
              1,
              "#f0f921"
             ]
            ],
            "type": "histogram2d"
           }
          ],
          "histogram2dcontour": [
           {
            "colorbar": {
             "outlinewidth": 0,
             "ticks": ""
            },
            "colorscale": [
             [
              0,
              "#0d0887"
             ],
             [
              0.1111111111111111,
              "#46039f"
             ],
             [
              0.2222222222222222,
              "#7201a8"
             ],
             [
              0.3333333333333333,
              "#9c179e"
             ],
             [
              0.4444444444444444,
              "#bd3786"
             ],
             [
              0.5555555555555556,
              "#d8576b"
             ],
             [
              0.6666666666666666,
              "#ed7953"
             ],
             [
              0.7777777777777778,
              "#fb9f3a"
             ],
             [
              0.8888888888888888,
              "#fdca26"
             ],
             [
              1,
              "#f0f921"
             ]
            ],
            "type": "histogram2dcontour"
           }
          ],
          "mesh3d": [
           {
            "colorbar": {
             "outlinewidth": 0,
             "ticks": ""
            },
            "type": "mesh3d"
           }
          ],
          "parcoords": [
           {
            "line": {
             "colorbar": {
              "outlinewidth": 0,
              "ticks": ""
             }
            },
            "type": "parcoords"
           }
          ],
          "pie": [
           {
            "automargin": true,
            "type": "pie"
           }
          ],
          "scatter": [
           {
            "fillpattern": {
             "fillmode": "overlay",
             "size": 10,
             "solidity": 0.2
            },
            "type": "scatter"
           }
          ],
          "scatter3d": [
           {
            "line": {
             "colorbar": {
              "outlinewidth": 0,
              "ticks": ""
             }
            },
            "marker": {
             "colorbar": {
              "outlinewidth": 0,
              "ticks": ""
             }
            },
            "type": "scatter3d"
           }
          ],
          "scattercarpet": [
           {
            "marker": {
             "colorbar": {
              "outlinewidth": 0,
              "ticks": ""
             }
            },
            "type": "scattercarpet"
           }
          ],
          "scattergeo": [
           {
            "marker": {
             "colorbar": {
              "outlinewidth": 0,
              "ticks": ""
             }
            },
            "type": "scattergeo"
           }
          ],
          "scattergl": [
           {
            "marker": {
             "colorbar": {
              "outlinewidth": 0,
              "ticks": ""
             }
            },
            "type": "scattergl"
           }
          ],
          "scattermapbox": [
           {
            "marker": {
             "colorbar": {
              "outlinewidth": 0,
              "ticks": ""
             }
            },
            "type": "scattermapbox"
           }
          ],
          "scatterpolar": [
           {
            "marker": {
             "colorbar": {
              "outlinewidth": 0,
              "ticks": ""
             }
            },
            "type": "scatterpolar"
           }
          ],
          "scatterpolargl": [
           {
            "marker": {
             "colorbar": {
              "outlinewidth": 0,
              "ticks": ""
             }
            },
            "type": "scatterpolargl"
           }
          ],
          "scatterternary": [
           {
            "marker": {
             "colorbar": {
              "outlinewidth": 0,
              "ticks": ""
             }
            },
            "type": "scatterternary"
           }
          ],
          "surface": [
           {
            "colorbar": {
             "outlinewidth": 0,
             "ticks": ""
            },
            "colorscale": [
             [
              0,
              "#0d0887"
             ],
             [
              0.1111111111111111,
              "#46039f"
             ],
             [
              0.2222222222222222,
              "#7201a8"
             ],
             [
              0.3333333333333333,
              "#9c179e"
             ],
             [
              0.4444444444444444,
              "#bd3786"
             ],
             [
              0.5555555555555556,
              "#d8576b"
             ],
             [
              0.6666666666666666,
              "#ed7953"
             ],
             [
              0.7777777777777778,
              "#fb9f3a"
             ],
             [
              0.8888888888888888,
              "#fdca26"
             ],
             [
              1,
              "#f0f921"
             ]
            ],
            "type": "surface"
           }
          ],
          "table": [
           {
            "cells": {
             "fill": {
              "color": "#EBF0F8"
             },
             "line": {
              "color": "white"
             }
            },
            "header": {
             "fill": {
              "color": "#C8D4E3"
             },
             "line": {
              "color": "white"
             }
            },
            "type": "table"
           }
          ]
         },
         "layout": {
          "annotationdefaults": {
           "arrowcolor": "#2a3f5f",
           "arrowhead": 0,
           "arrowwidth": 1
          },
          "autotypenumbers": "strict",
          "coloraxis": {
           "colorbar": {
            "outlinewidth": 0,
            "ticks": ""
           }
          },
          "colorscale": {
           "diverging": [
            [
             0,
             "#8e0152"
            ],
            [
             0.1,
             "#c51b7d"
            ],
            [
             0.2,
             "#de77ae"
            ],
            [
             0.3,
             "#f1b6da"
            ],
            [
             0.4,
             "#fde0ef"
            ],
            [
             0.5,
             "#f7f7f7"
            ],
            [
             0.6,
             "#e6f5d0"
            ],
            [
             0.7,
             "#b8e186"
            ],
            [
             0.8,
             "#7fbc41"
            ],
            [
             0.9,
             "#4d9221"
            ],
            [
             1,
             "#276419"
            ]
           ],
           "sequential": [
            [
             0,
             "#0d0887"
            ],
            [
             0.1111111111111111,
             "#46039f"
            ],
            [
             0.2222222222222222,
             "#7201a8"
            ],
            [
             0.3333333333333333,
             "#9c179e"
            ],
            [
             0.4444444444444444,
             "#bd3786"
            ],
            [
             0.5555555555555556,
             "#d8576b"
            ],
            [
             0.6666666666666666,
             "#ed7953"
            ],
            [
             0.7777777777777778,
             "#fb9f3a"
            ],
            [
             0.8888888888888888,
             "#fdca26"
            ],
            [
             1,
             "#f0f921"
            ]
           ],
           "sequentialminus": [
            [
             0,
             "#0d0887"
            ],
            [
             0.1111111111111111,
             "#46039f"
            ],
            [
             0.2222222222222222,
             "#7201a8"
            ],
            [
             0.3333333333333333,
             "#9c179e"
            ],
            [
             0.4444444444444444,
             "#bd3786"
            ],
            [
             0.5555555555555556,
             "#d8576b"
            ],
            [
             0.6666666666666666,
             "#ed7953"
            ],
            [
             0.7777777777777778,
             "#fb9f3a"
            ],
            [
             0.8888888888888888,
             "#fdca26"
            ],
            [
             1,
             "#f0f921"
            ]
           ]
          },
          "colorway": [
           "#636efa",
           "#EF553B",
           "#00cc96",
           "#ab63fa",
           "#FFA15A",
           "#19d3f3",
           "#FF6692",
           "#B6E880",
           "#FF97FF",
           "#FECB52"
          ],
          "font": {
           "color": "#2a3f5f"
          },
          "geo": {
           "bgcolor": "white",
           "lakecolor": "white",
           "landcolor": "white",
           "showlakes": true,
           "showland": true,
           "subunitcolor": "#C8D4E3"
          },
          "hoverlabel": {
           "align": "left"
          },
          "hovermode": "closest",
          "mapbox": {
           "style": "light"
          },
          "paper_bgcolor": "white",
          "plot_bgcolor": "white",
          "polar": {
           "angularaxis": {
            "gridcolor": "#EBF0F8",
            "linecolor": "#EBF0F8",
            "ticks": ""
           },
           "bgcolor": "white",
           "radialaxis": {
            "gridcolor": "#EBF0F8",
            "linecolor": "#EBF0F8",
            "ticks": ""
           }
          },
          "scene": {
           "xaxis": {
            "backgroundcolor": "white",
            "gridcolor": "#DFE8F3",
            "gridwidth": 2,
            "linecolor": "#EBF0F8",
            "showbackground": true,
            "ticks": "",
            "zerolinecolor": "#EBF0F8"
           },
           "yaxis": {
            "backgroundcolor": "white",
            "gridcolor": "#DFE8F3",
            "gridwidth": 2,
            "linecolor": "#EBF0F8",
            "showbackground": true,
            "ticks": "",
            "zerolinecolor": "#EBF0F8"
           },
           "zaxis": {
            "backgroundcolor": "white",
            "gridcolor": "#DFE8F3",
            "gridwidth": 2,
            "linecolor": "#EBF0F8",
            "showbackground": true,
            "ticks": "",
            "zerolinecolor": "#EBF0F8"
           }
          },
          "shapedefaults": {
           "line": {
            "color": "#2a3f5f"
           }
          },
          "ternary": {
           "aaxis": {
            "gridcolor": "#DFE8F3",
            "linecolor": "#A2B1C6",
            "ticks": ""
           },
           "baxis": {
            "gridcolor": "#DFE8F3",
            "linecolor": "#A2B1C6",
            "ticks": ""
           },
           "bgcolor": "white",
           "caxis": {
            "gridcolor": "#DFE8F3",
            "linecolor": "#A2B1C6",
            "ticks": ""
           }
          },
          "title": {
           "x": 0.05
          },
          "xaxis": {
           "automargin": true,
           "gridcolor": "#EBF0F8",
           "linecolor": "#EBF0F8",
           "ticks": "",
           "title": {
            "standoff": 15
           },
           "zerolinecolor": "#EBF0F8",
           "zerolinewidth": 2
          },
          "yaxis": {
           "automargin": true,
           "gridcolor": "#EBF0F8",
           "linecolor": "#EBF0F8",
           "ticks": "",
           "title": {
            "standoff": 15
           },
           "zerolinecolor": "#EBF0F8",
           "zerolinewidth": 2
          }
         }
        },
        "title": {
         "text": "Light Intensity of Images"
        },
        "xaxis": {
         "tickangle": 45,
         "title": {
          "text": "Timestamp"
         }
        },
        "yaxis": {
         "title": {
          "text": "Summed Pixel Intensity"
         }
        }
       }
      }
     },
     "metadata": {}
    }
   ],
   "metadata": {}
  }
 ],
 "metadata": {
  "kernelspec": {
   "name": "python3",
   "display_name": "Python 3.9.10 64-bit"
  },
  "language_info": {
   "codemirror_mode": {
    "name": "ipython",
    "version": 3
   },
   "file_extension": ".py",
   "mimetype": "text/x-python",
   "name": "python",
   "nbconvert_exporter": "python",
   "pygments_lexer": "ipython3",
   "version": "3.9.10"
  },
  "interpreter": {
   "hash": "aee8b7b246df8f9039afb4144a1f6fd8d2ca17a180786b69acc140d282b71a49"
  }
 },
 "nbformat": 4,
 "nbformat_minor": 2
}